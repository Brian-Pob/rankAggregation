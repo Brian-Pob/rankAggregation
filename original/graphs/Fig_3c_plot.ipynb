{
 "cells": [
  {
   "cell_type": "code",
   "execution_count": 34,
   "metadata": {},
   "outputs": [],
   "source": [
    "import gurobipy as gp\n",
    "from gurobipy import GRB\n",
    "from gurobipy import tuplelist\n",
    "import itertools  \n",
    "import pandas as pd\n",
    "import os\n",
    "import math\n",
    "import matplotlib.pyplot as plt"
   ]
  },
  {
   "cell_type": "code",
   "execution_count": 35,
   "metadata": {},
   "outputs": [],
   "source": [
    "\n",
    "data = pd.read_csv(r\"data/unique_200.csv\")"
   ]
  },
  {
   "cell_type": "code",
   "execution_count": 36,
   "metadata": {},
   "outputs": [
    {
     "data": {
      "text/html": [
       "<div>\n",
       "<style scoped>\n",
       "    .dataframe tbody tr th:only-of-type {\n",
       "        vertical-align: middle;\n",
       "    }\n",
       "\n",
       "    .dataframe tbody tr th {\n",
       "        vertical-align: top;\n",
       "    }\n",
       "\n",
       "    .dataframe thead th {\n",
       "        text-align: right;\n",
       "    }\n",
       "</style>\n",
       "<table border=\"1\" class=\"dataframe\">\n",
       "  <thead>\n",
       "    <tr style=\"text-align: right;\">\n",
       "      <th></th>\n",
       "      <th>Unnamed: 0</th>\n",
       "      <th>Unnamed: 1</th>\n",
       "      <th>Unnamed: 2</th>\n",
       "      <th>Unnamed: 3</th>\n",
       "      <th>Unnamed: 4</th>\n",
       "      <th>Unnamed: 5</th>\n",
       "      <th>Unnamed: 6</th>\n",
       "      <th>Unnamed: 7</th>\n",
       "      <th>genre</th>\n",
       "    </tr>\n",
       "  </thead>\n",
       "  <tbody>\n",
       "    <tr>\n",
       "      <th>0</th>\n",
       "      <td>8194</td>\n",
       "      <td>47</td>\n",
       "      <td>77</td>\n",
       "      <td>72</td>\n",
       "      <td>150</td>\n",
       "      <td>96</td>\n",
       "      <td>161</td>\n",
       "      <td>224</td>\n",
       "      <td>Drama</td>\n",
       "    </tr>\n",
       "    <tr>\n",
       "      <th>1</th>\n",
       "      <td>4098</td>\n",
       "      <td>110</td>\n",
       "      <td>119</td>\n",
       "      <td>87</td>\n",
       "      <td>147</td>\n",
       "      <td>259</td>\n",
       "      <td>93</td>\n",
       "      <td>24</td>\n",
       "      <td>Drama</td>\n",
       "    </tr>\n",
       "    <tr>\n",
       "      <th>2</th>\n",
       "      <td>3074</td>\n",
       "      <td>185</td>\n",
       "      <td>157</td>\n",
       "      <td>21</td>\n",
       "      <td>77</td>\n",
       "      <td>124</td>\n",
       "      <td>133</td>\n",
       "      <td>47</td>\n",
       "      <td>Western</td>\n",
       "    </tr>\n",
       "    <tr>\n",
       "      <th>3</th>\n",
       "      <td>55814</td>\n",
       "      <td>161</td>\n",
       "      <td>116</td>\n",
       "      <td>46</td>\n",
       "      <td>142</td>\n",
       "      <td>86</td>\n",
       "      <td>32</td>\n",
       "      <td>181</td>\n",
       "      <td>Drama</td>\n",
       "    </tr>\n",
       "    <tr>\n",
       "      <th>4</th>\n",
       "      <td>8711</td>\n",
       "      <td>169</td>\n",
       "      <td>178</td>\n",
       "      <td>239</td>\n",
       "      <td>45</td>\n",
       "      <td>87</td>\n",
       "      <td>14</td>\n",
       "      <td>250</td>\n",
       "      <td>Comedy</td>\n",
       "    </tr>\n",
       "  </tbody>\n",
       "</table>\n",
       "</div>"
      ],
      "text/plain": [
       "   Unnamed: 0  Unnamed: 1  Unnamed: 2  Unnamed: 3  Unnamed: 4  Unnamed: 5  \\\n",
       "0        8194          47          77          72         150          96   \n",
       "1        4098         110         119          87         147         259   \n",
       "2        3074         185         157          21          77         124   \n",
       "3       55814         161         116          46         142          86   \n",
       "4        8711         169         178         239          45          87   \n",
       "\n",
       "   Unnamed: 6  Unnamed: 7    genre  \n",
       "0         161         224    Drama  \n",
       "1          93          24    Drama  \n",
       "2         133          47  Western  \n",
       "3          32         181    Drama  \n",
       "4          14         250   Comedy  "
      ]
     },
     "execution_count": 36,
     "metadata": {},
     "output_type": "execute_result"
    }
   ],
   "source": [
    "data.head()"
   ]
  },
  {
   "cell_type": "code",
   "execution_count": 37,
   "metadata": {},
   "outputs": [],
   "source": [
    "row = data.iloc[ :,0]"
   ]
  },
  {
   "cell_type": "code",
   "execution_count": 38,
   "metadata": {},
   "outputs": [
    {
     "name": "stdout",
     "output_type": "stream",
     "text": [
      "9\n"
     ]
    }
   ],
   "source": [
    "movies = [i for i in range(1,265)]\n",
    "nrow = len(data)\n",
    "ncol = int(data.size/len(data))\n",
    "print(ncol)"
   ]
  },
  {
   "cell_type": "code",
   "execution_count": null,
   "metadata": {},
   "outputs": [],
   "source": []
  },
  {
   "cell_type": "code",
   "execution_count": 39,
   "metadata": {},
   "outputs": [],
   "source": [
    "rankDic = {}\n",
    "rankList = []\n",
    "for i in range(1,ncol-1):\n",
    "    row = data.iloc[:,i ]\n",
    "    \n",
    "    #print(row)\n",
    "    rank = {}\n",
    "    for j in range(0,nrow):\n",
    "        rankDic[(i-1,row[j])] = j\n",
    "        rank[row[j]] = j  \n",
    "    rankList.append(rank)"
   ]
  },
  {
   "cell_type": "code",
   "execution_count": 40,
   "metadata": {},
   "outputs": [],
   "source": [
    "itemList = movies"
   ]
  },
  {
   "cell_type": "code",
   "execution_count": 41,
   "metadata": {},
   "outputs": [
    {
     "data": {
      "text/plain": [
       "{'Comedy',\n",
       " 'Documentary',\n",
       " 'Drama',\n",
       " 'Film-Noir',\n",
       " 'Horror',\n",
       " 'Musical',\n",
       " 'Thriller',\n",
       " 'Western'}"
      ]
     },
     "execution_count": 41,
     "metadata": {},
     "output_type": "execute_result"
    }
   ],
   "source": [
    "group = data.iloc[:, 8]\n",
    "set(group)"
   ]
  },
  {
   "cell_type": "code",
   "execution_count": 42,
   "metadata": {},
   "outputs": [],
   "source": [
    "G1 = []\n",
    "G2 = []\n",
    "G3 = []\n",
    "G4 = []\n",
    "G5 = []\n",
    "G6 = []\n",
    "G7= []\n",
    "G8 = []\n",
    "for i in range(0,len(movies)):\n",
    "    if(group[i] == \"Comedy\"):\n",
    "        G1.append(group[i])\n",
    "    elif(group[i] == \"Documentary\"):\n",
    "        G2.append(group[i])\n",
    "    elif(group[i] == \"Drama\"):\n",
    "        G3.append(group[i])\n",
    "    elif(group[i] == \"Film-Noir\"):\n",
    "        G4.append(group[i])\n",
    "    elif(group[i] == \"Horror\"):\n",
    "        G5.append(group[i])\n",
    "    elif(group[i] == \"Musical\"):\n",
    "        G6.append(group[i])\n",
    "    elif(group[i] == \"Thriller\"):\n",
    "        G7.append(group[i])\n",
    "    else:\n",
    "        G8.append(group[i])"
   ]
  },
  {
   "cell_type": "code",
   "execution_count": null,
   "metadata": {},
   "outputs": [],
   "source": []
  },
  {
   "cell_type": "code",
   "execution_count": 43,
   "metadata": {},
   "outputs": [],
   "source": [
    "p1 = len(G1)/len(itemList)\n",
    "p2 = len(G2)/len(itemList)\n",
    "p3 = len(G3)/len(itemList)\n",
    "p4 = len(G4)/len(itemList)\n",
    "p5 = len(G5)/len(itemList)\n",
    "p6 = len(G6)/len(itemList)\n",
    "p7 = len(G7)/len(itemList)\n",
    "p8 = len(G8)/len(itemList)"
   ]
  },
  {
   "cell_type": "code",
   "execution_count": null,
   "metadata": {},
   "outputs": [],
   "source": []
  },
  {
   "cell_type": "code",
   "execution_count": null,
   "metadata": {},
   "outputs": [],
   "source": []
  },
  {
   "cell_type": "code",
   "execution_count": null,
   "metadata": {},
   "outputs": [],
   "source": []
  },
  {
   "cell_type": "code",
   "execution_count": null,
   "metadata": {},
   "outputs": [],
   "source": []
  },
  {
   "cell_type": "code",
   "execution_count": null,
   "metadata": {},
   "outputs": [],
   "source": []
  },
  {
   "cell_type": "code",
   "execution_count": 44,
   "metadata": {},
   "outputs": [],
   "source": [
    "P = {'Comedy':p1,'Documentary':p2,'Drama':p3,'Film-Noir':p4,\n",
    "     'Horror':p5,'Musical':p6,'Thriller':p7,'Western':p8}"
   ]
  },
  {
   "cell_type": "code",
   "execution_count": 45,
   "metadata": {},
   "outputs": [
    {
     "data": {
      "text/plain": [
       "1.0"
      ]
     },
     "execution_count": 45,
     "metadata": {},
     "output_type": "execute_result"
    }
   ],
   "source": [
    "sum(P.values())"
   ]
  },
  {
   "cell_type": "code",
   "execution_count": 46,
   "metadata": {},
   "outputs": [
    {
     "data": {
      "text/plain": [
       "['Comedy',\n",
       " 'Documentary',\n",
       " 'Drama',\n",
       " 'Film-Noir',\n",
       " 'Horror',\n",
       " 'Musical',\n",
       " 'Thriller',\n",
       " 'Western']"
      ]
     },
     "execution_count": 46,
     "metadata": {},
     "output_type": "execute_result"
    }
   ],
   "source": [
    "A = list(P.keys())\n",
    "A"
   ]
  },
  {
   "cell_type": "code",
   "execution_count": 47,
   "metadata": {},
   "outputs": [],
   "source": [
    "S={}\n",
    "for a in A:\n",
    "   \n",
    "    scoreList = []\n",
    "    \n",
    "    S[a] = scoreList"
   ]
  },
  {
   "cell_type": "code",
   "execution_count": 48,
   "metadata": {},
   "outputs": [
    {
     "data": {
      "text/plain": [
       "'Drama'"
      ]
     },
     "execution_count": 48,
     "metadata": {},
     "output_type": "execute_result"
    }
   ],
   "source": [
    "A[2]"
   ]
  },
  {
   "cell_type": "code",
   "execution_count": 49,
   "metadata": {},
   "outputs": [],
   "source": [
    "score = len(rank)\n",
    "for i in rank:\n",
    "    if group[i-1] == 'Comedy':\n",
    "        S[A[0]].append((score,i))\n",
    "    if group[i-1] == 'Documentary':\n",
    "        S[A[1]].append((score,i))\n",
    "    if group[i-1] == 'Drama':\n",
    "        S[A[2]].append((score,i))\n",
    "    if group[i-1] == 'Film-Noir':\n",
    "        S[A[3]].append((score,i))\n",
    "    if group[i-1] == 'Horror':\n",
    "        S[A[4]].append((score,i))\n",
    "    if group[i-1] == 'Musical':\n",
    "        S[A[5]].append((score,i))\n",
    "    if group[i-1] == 'Thriller':\n",
    "        S[A[6]].append((score,i))\n",
    "    if group[i-1] == 'Western':\n",
    "        S[A[7]].append((score,i))\n",
    "    \n",
    "    score = score - 1"
   ]
  },
  {
   "cell_type": "code",
   "execution_count": null,
   "metadata": {},
   "outputs": [],
   "source": []
  },
  {
   "cell_type": "code",
   "execution_count": null,
   "metadata": {},
   "outputs": [],
   "source": []
  },
  {
   "cell_type": "code",
   "execution_count": 50,
   "metadata": {},
   "outputs": [],
   "source": [
    "def swap(dict,i,j):\n",
    "    item = dict[i]\n",
    "    dict[i] = dict[j]\n",
    "    dict[j] = item "
   ]
  },
  {
   "cell_type": "code",
   "execution_count": 51,
   "metadata": {},
   "outputs": [
    {
     "data": {
      "text/plain": [
       "58"
      ]
     },
     "execution_count": 51,
     "metadata": {},
     "output_type": "execute_result"
    }
   ],
   "source": [
    "len(S['Comedy'])"
   ]
  },
  {
   "cell_type": "code",
   "execution_count": 52,
   "metadata": {},
   "outputs": [
    {
     "data": {
      "text/plain": [
       "268"
      ]
     },
     "execution_count": 52,
     "metadata": {},
     "output_type": "execute_result"
    }
   ],
   "source": [
    "len(rank)"
   ]
  },
  {
   "cell_type": "code",
   "execution_count": 53,
   "metadata": {},
   "outputs": [
    {
     "data": {
      "text/plain": [
       "0.5871212121212122"
      ]
     },
     "execution_count": 53,
     "metadata": {},
     "output_type": "execute_result"
    }
   ],
   "source": [
    "P['Drama']"
   ]
  },
  {
   "cell_type": "code",
   "execution_count": 54,
   "metadata": {},
   "outputs": [],
   "source": [
    "def DetConstSort(S,A,P,kmax):\n",
    "    counts = {}\n",
    "    minCounts = {}\n",
    "    for ai in A:\n",
    "        counts[ai] = 0\n",
    "        minCounts[ai] = 0\n",
    "    \n",
    "    rankedAttList = {}\n",
    "    rankedScoreList = {}\n",
    "    maxIndices = {}\n",
    "    lastEmpty = 0\n",
    "    k = 0\n",
    "    \n",
    "    while lastEmpty <= kmax:\n",
    "        k = k + 1\n",
    "        tempMinCounts = {}\n",
    "        for ai in A:\n",
    "            tempMinCounts[ai] = math.floor(k * P[ai])\n",
    "        changedMins = []\n",
    "        for ai in A:\n",
    "            if minCounts[ai ] < tempMinCounts[ai]:\n",
    "                #print(ai,counts[ai])\n",
    "                changedMins.append((S[ai][counts[ai]],ai))\n",
    "        if len(changedMins) != 0 :\n",
    "            changedMins.sort(reverse=True)\n",
    "            #ordChangedMins = changedMins\n",
    "        for sai,ai in  changedMins:\n",
    "            rankedAttList[lastEmpty] = ai\n",
    "            #print(ai)\n",
    "            rankedScoreList[lastEmpty] = S[ai][counts[ai]]\n",
    "            maxIndices[lastEmpty] = k\n",
    "            start = lastEmpty\n",
    "            while start > 0 and maxIndices[start - 1] >= start and rankedScoreList[start-1][0] < rankedScoreList[start][0]:\n",
    "                swap(maxIndices,start - 1,start)\n",
    "                swap(rankedAttList,start - 1, start)\n",
    "                swap(rankedScoreList,start - 1, start)\n",
    "                start = start - 1\n",
    "            counts[ai] = counts[ai] + 1 \n",
    "            lastEmpty = lastEmpty + 1\n",
    "        minCounts = tempMinCounts\n",
    "    return (rankedAttList, rankedScoreList)"
   ]
  },
  {
   "cell_type": "code",
   "execution_count": null,
   "metadata": {},
   "outputs": [],
   "source": []
  },
  {
   "cell_type": "code",
   "execution_count": 55,
   "metadata": {},
   "outputs": [],
   "source": [
    "kmax = 250 #len(rank) - 1\n",
    "rankedAttList,rankedScoreList = DetConstSort(S,A,P,kmax)"
   ]
  },
  {
   "cell_type": "code",
   "execution_count": null,
   "metadata": {},
   "outputs": [],
   "source": []
  },
  {
   "cell_type": "code",
   "execution_count": null,
   "metadata": {},
   "outputs": [],
   "source": []
  },
  {
   "cell_type": "code",
   "execution_count": 56,
   "metadata": {},
   "outputs": [],
   "source": [
    "detOut = []\n",
    "for key in rankedScoreList.keys():\n",
    "    detOut.append(rankedScoreList[key][1])"
   ]
  },
  {
   "cell_type": "code",
   "execution_count": 57,
   "metadata": {},
   "outputs": [],
   "source": [
    "\n",
    "def ApproxMultiValuedIPF(rank,group):\n",
    "    rankGrp = {}\n",
    "    for i in range(0,len(rank)):\n",
    "        rankGrp[rank[i]] = group[i]\n",
    "\n",
    "    grpCount = {}\n",
    "    for i in group:\n",
    "        grpCount[i] = 0\n",
    "\n",
    "    rankGrpPos = {}\n",
    "    for i in rank:\n",
    "        grpCount[rankGrp[i]] = grpCount[rankGrp[i]] + 1\n",
    "        rankGrpPos[i] = grpCount[rankGrp[i]]\n",
    "    numberOfItem = len(rank)\n",
    "    rankRange = {}\n",
    "    for item in rank:\n",
    "        i = rankGrpPos[item]\n",
    "        n = numberOfItem\n",
    "        fp = grpCount[rankGrp[item]]\n",
    "        r1 = math.floor(i*n/fp)\n",
    "        r2 = math.ceil((i+1)*n/fp) - 1\n",
    "        if r2 > numberOfItem:\n",
    "            r2 = numberOfItem\n",
    "        rankRange[item] = (r1,r2)\n",
    "\n",
    "\n",
    "    B = nx.Graph()\n",
    "    top_nodes = []\n",
    "    bottom_nodes = []\n",
    "\n",
    "    for i in rank:\n",
    "        top_nodes.append(i)\n",
    "        bottom_nodes.append(str(i))\n",
    "    B.add_nodes_from(top_nodes, bipartite=0)\n",
    "    B.add_nodes_from(bottom_nodes, bipartite=1)\n",
    "\n",
    "    for i in rank:\n",
    "        r1,r2 = rankRange[i]\n",
    "        #print(r1,r2)\n",
    "        for j in range(1,numberOfItem+1):\n",
    "            if j >= r1 and j <= r2:\n",
    "                print(i,j)\n",
    "                B.add_edge(i, str(j), weight = abs(i-j))\n",
    "            else:\n",
    "                B.add_edge(i, str(j), weight=1000000000)\n",
    "                print(i,j)\n",
    "\n",
    "    my_matching = nx.algorithms.bipartite.minimum_weight_full_matching(B, top_nodes, \"weight\")"
   ]
  },
  {
   "cell_type": "code",
   "execution_count": 58,
   "metadata": {},
   "outputs": [],
   "source": [
    "newOut = []"
   ]
  },
  {
   "cell_type": "code",
   "execution_count": null,
   "metadata": {},
   "outputs": [],
   "source": [
    "\n",
    "    "
   ]
  },
  {
   "cell_type": "code",
   "execution_count": 59,
   "metadata": {},
   "outputs": [
    {
     "data": {
      "text/plain": [
       "['Comedy',\n",
       " 'Documentary',\n",
       " 'Drama',\n",
       " 'Film-Noir',\n",
       " 'Horror',\n",
       " 'Musical',\n",
       " 'Thriller',\n",
       " 'Western']"
      ]
     },
     "execution_count": 59,
     "metadata": {},
     "output_type": "execute_result"
    }
   ],
   "source": [
    "A"
   ]
  },
  {
   "cell_type": "code",
   "execution_count": 60,
   "metadata": {},
   "outputs": [],
   "source": [
    "def KendallTau(P,Q,allids):\n",
    "    combinations = [p for p in itertools.product(allids, repeat=2)]\n",
    "    distance = 0\n",
    "    for tup in combinations:\n",
    "        if P[tup[0]] < P[tup[1]] and  Q[tup[1]] < Q[tup[0]]:\n",
    "            distance = distance + 1\n",
    "    return distance\n",
    "P={}\n",
    "Q = {}\n",
    "import itertools\n",
    "allids = []\n",
    "for i in range(0,len(detOut)):\n",
    "    allids.append(i)\n",
    "    \n"
   ]
  },
  {
   "cell_type": "code",
   "execution_count": 65,
   "metadata": {},
   "outputs": [],
   "source": [
    "\n",
    "res = pd.read_csv(\"Fig_3c_result.csv\")\n",
    "res.head()\n",
    "x = list(res.iloc[0, :])\n",
    "y = list(res.iloc[1, :])\n",
    "z = list(res.iloc[2, :])\n"
   ]
  },
  {
   "cell_type": "code",
   "execution_count": 66,
   "metadata": {},
   "outputs": [],
   "source": [
    "# posCheck = [10,25,50,100,500,1000]\n",
    "# z_det = []\n",
    "# y_out = [100 for i in range(len(rank))]\n",
    "# sumFail = 0\n",
    "# count = {'Comedy':0,'Documentary':0,'Drama':0,'Film-Noir':0,\n",
    "#         'Horror':0,'Musical':0,'Thriller':0,'Western':0}\n",
    "# x_detConst = []\n",
    "# y = []\n",
    "\n",
    "# totalViolates = 0\n",
    "# itrCount = 0\n",
    "# sumtfail = 0\n",
    "\n",
    "# for i in detOut:\n",
    "#     itrCount = itrCount + 1\n",
    "#     itemGrp = group[i-1]\n",
    "#     count[str(itemGrp)] = count[str(itemGrp)] + 1\n",
    "    \n",
    "#     violates = False\n",
    "#     tViolates = 0\n",
    "#     for j in A:\n",
    "#         bot = math.floor(itrCount*P[j])\n",
    "#         top = math.ceil(itrCount*P[j])\n",
    "#         #print(j,bot,top)\n",
    "#         if (count[j] > top or count[j] <  bot):\n",
    "#             violates = True\n",
    "#             tViolates = tViolates + 1\n",
    "            \n",
    "#     if violates == True:\n",
    "#         totalViolates = totalViolates + 1\n",
    "#     sumtfail = sumtfail + 8 - tViolates\n",
    "#     z_det.append((sumtfail/itrCount)/8*100)\n",
    "#     #print(n,totalViolates)\n",
    "# #     itrCount = itrCount + 1\n",
    "# #     x_detConst.append((itrCount-totalViolates)/itrCount*100)\n",
    "# #     print('group satisfied by DetConstSort = ',itrCount,(itrCount-totalViolates)/itrCount*100)"
   ]
  },
  {
   "cell_type": "code",
   "execution_count": null,
   "metadata": {},
   "outputs": [],
   "source": []
  },
  {
   "cell_type": "code",
   "execution_count": 67,
   "metadata": {},
   "outputs": [
    {
     "data": {
      "image/png": "[encoded data removed]",
      "text/plain": [
       "<Figure size 432x288 with 1 Axes>"
      ]
     },
     "metadata": {
      "needs_background": "light"
     },
     "output_type": "display_data"
    }
   ],
   "source": [
    "import matplotlib.pyplot as plt\n",
    "plt.rcParams.update({'font.size': 18})\n",
    "fig, ax = plt.subplots(nrows=1, ncols=1)\n",
    "plt.plot(x,y)\n",
    "plt.plot(x,z)\n",
    "# create an index for each tick position\n",
    "\n",
    "plt.ylabel('Kendall tau distance',fontweight='bold',fontsize=20)\n",
    "plt.xlabel('Number of items',fontweight='bold',fontsize=20)\n",
    "\n",
    "#plt.xticks([100,20,30,40,50], ['10','20','30','40','50'])\n",
    "#plt.yticks([0,10,20,30,40], ['0','10','20','30',''])\n",
    "plt.legend([\"ApproxMultiValuedIPF\",\"DetConstSort\"],fontsize=18)\n",
    "plt.ylim([-100,3100])\n",
    "#fig.savefig(\"newfig/fig_3/new/ApproxMultiValuedIPF_vs_detConstSort_movielens_kendall_tau.png\", bbox_inches='tight', dpi=480)\n",
    "plt.show()"
   ]
  },
  {
   "cell_type": "code",
   "execution_count": null,
   "metadata": {},
   "outputs": [],
   "source": []
  },
  {
   "cell_type": "code",
   "execution_count": null,
   "metadata": {},
   "outputs": [],
   "source": []
  },
  {
   "cell_type": "code",
   "execution_count": null,
   "metadata": {},
   "outputs": [],
   "source": []
  },
  {
   "cell_type": "code",
   "execution_count": null,
   "metadata": {},
   "outputs": [],
   "source": []
  },
  {
   "cell_type": "code",
   "execution_count": null,
   "metadata": {},
   "outputs": [],
   "source": []
  },
  {
   "cell_type": "code",
   "execution_count": null,
   "metadata": {},
   "outputs": [],
   "source": []
  },
  {
   "cell_type": "code",
   "execution_count": null,
   "metadata": {},
   "outputs": [],
   "source": []
  }
 ],
 "metadata": {
  "kernelspec": {
   "display_name": "Python 3",
   "language": "python",
   "name": "python3"
  },
  "language_info": {
   "codemirror_mode": {
    "name": "ipython",
    "version": 3
   },
   "file_extension": ".py",
   "mimetype": "text/x-python",
   "name": "python",
   "nbconvert_exporter": "python",
   "pygments_lexer": "ipython3",
   "version": "3.7.4"
  }
 },
 "nbformat": 4,
 "nbformat_minor": 2
}
