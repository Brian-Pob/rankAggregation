{
 "cells": [
  {
   "cell_type": "code",
   "execution_count": null,
   "metadata": {},
   "outputs": [],
   "source": []
  },
  {
   "cell_type": "code",
   "execution_count": 1,
   "metadata": {},
   "outputs": [],
   "source": [
    "import pandas as pd\n",
    "import os\n",
    "import pandas as pd\n",
    "from GrBinaryIPF import GrBinaryIPF\n",
    "import math\n",
    "import matplotlib.pyplot as plt\n",
    "import numpy as np\n",
    "\n",
    "fpath =  \"data/GermanCredit_new.csv\""
   ]
  },
  {
   "cell_type": "code",
   "execution_count": 2,
   "metadata": {},
   "outputs": [],
   "source": [
    "data = pd.read_csv(fpath)"
   ]
  },
  {
   "cell_type": "code",
   "execution_count": 3,
   "metadata": {},
   "outputs": [
    {
     "data": {
      "text/html": [
       "<div>\n",
       "<style scoped>\n",
       "    .dataframe tbody tr th:only-of-type {\n",
       "        vertical-align: middle;\n",
       "    }\n",
       "\n",
       "    .dataframe tbody tr th {\n",
       "        vertical-align: top;\n",
       "    }\n",
       "\n",
       "    .dataframe thead th {\n",
       "        text-align: right;\n",
       "    }\n",
       "</style>\n",
       "<table border=\"1\" class=\"dataframe\">\n",
       "  <thead>\n",
       "    <tr style=\"text-align: right;\">\n",
       "      <th></th>\n",
       "      <th>id</th>\n",
       "      <th>DurationMonth</th>\n",
       "      <th>CreditAmount</th>\n",
       "      <th>score</th>\n",
       "      <th>sex</th>\n",
       "      <th>age35</th>\n",
       "      <th>protected</th>\n",
       "    </tr>\n",
       "  </thead>\n",
       "  <tbody>\n",
       "    <tr>\n",
       "      <th>0</th>\n",
       "      <td>0</td>\n",
       "      <td>0.029412</td>\n",
       "      <td>0.949433</td>\n",
       "      <td>0.600715</td>\n",
       "      <td>1</td>\n",
       "      <td>0</td>\n",
       "      <td>2</td>\n",
       "    </tr>\n",
       "    <tr>\n",
       "      <th>1</th>\n",
       "      <td>1</td>\n",
       "      <td>0.647059</td>\n",
       "      <td>0.686310</td>\n",
       "      <td>0.496131</td>\n",
       "      <td>0</td>\n",
       "      <td>1</td>\n",
       "      <td>3</td>\n",
       "    </tr>\n",
       "    <tr>\n",
       "      <th>2</th>\n",
       "      <td>2</td>\n",
       "      <td>0.117647</td>\n",
       "      <td>0.898426</td>\n",
       "      <td>0.506866</td>\n",
       "      <td>1</td>\n",
       "      <td>0</td>\n",
       "      <td>2</td>\n",
       "    </tr>\n",
       "    <tr>\n",
       "      <th>3</th>\n",
       "      <td>3</td>\n",
       "      <td>0.558824</td>\n",
       "      <td>0.580059</td>\n",
       "      <td>0.599482</td>\n",
       "      <td>1</td>\n",
       "      <td>0</td>\n",
       "      <td>2</td>\n",
       "    </tr>\n",
       "    <tr>\n",
       "      <th>4</th>\n",
       "      <td>4</td>\n",
       "      <td>0.294118</td>\n",
       "      <td>0.745791</td>\n",
       "      <td>0.550060</td>\n",
       "      <td>1</td>\n",
       "      <td>0</td>\n",
       "      <td>2</td>\n",
       "    </tr>\n",
       "  </tbody>\n",
       "</table>\n",
       "</div>"
      ],
      "text/plain": [
       "   id  DurationMonth  CreditAmount     score  sex  age35  protected\n",
       "0   0       0.029412      0.949433  0.600715    1      0          2\n",
       "1   1       0.647059      0.686310  0.496131    0      1          3\n",
       "2   2       0.117647      0.898426  0.506866    1      0          2\n",
       "3   3       0.558824      0.580059  0.599482    1      0          2\n",
       "4   4       0.294118      0.745791  0.550060    1      0          2"
      ]
     },
     "execution_count": 3,
     "metadata": {},
     "output_type": "execute_result"
    }
   ],
   "source": [
    "data.head()"
   ]
  },
  {
   "cell_type": "code",
   "execution_count": 4,
   "metadata": {},
   "outputs": [],
   "source": [
    "rank = np.argsort(data[\"score\"])"
   ]
  },
  {
   "cell_type": "code",
   "execution_count": 5,
   "metadata": {},
   "outputs": [],
   "source": [
    "group = data[\"protected\"]"
   ]
  },
  {
   "cell_type": "code",
   "execution_count": 6,
   "metadata": {},
   "outputs": [
    {
     "data": {
      "text/plain": [
       "{1, 2, 3, 4}"
      ]
     },
     "execution_count": 6,
     "metadata": {},
     "output_type": "execute_result"
    }
   ],
   "source": [
    "set(group)"
   ]
  },
  {
   "cell_type": "code",
   "execution_count": null,
   "metadata": {},
   "outputs": [],
   "source": []
  },
  {
   "cell_type": "code",
   "execution_count": 7,
   "metadata": {},
   "outputs": [],
   "source": [
    "itemList = set(rank)"
   ]
  },
  {
   "cell_type": "code",
   "execution_count": 8,
   "metadata": {},
   "outputs": [],
   "source": [
    "G1 = []\n",
    "G2 = []\n",
    "G3 = []\n",
    "G4 = []\n",
    "for i in range(0,len(itemList)):\n",
    "    if(group[i] == 1):\n",
    "        G1.append(group[i])\n",
    "    elif(group[i] == 2):\n",
    "        G2.append(group[i])\n",
    "    elif(group[i] == 3):\n",
    "        G3.append(group[i])\n",
    "    else:\n",
    "        G4.append(group[i])"
   ]
  },
  {
   "cell_type": "code",
   "execution_count": 9,
   "metadata": {},
   "outputs": [],
   "source": [
    "p1 = len(G1)/len(itemList)\n",
    "p2 = len(G2)/len(itemList)\n",
    "p3 = len(G3)/len(itemList)\n",
    "p4 = len(G4)/len(itemList)"
   ]
  },
  {
   "cell_type": "code",
   "execution_count": null,
   "metadata": {},
   "outputs": [],
   "source": []
  },
  {
   "cell_type": "code",
   "execution_count": null,
   "metadata": {},
   "outputs": [],
   "source": []
  },
  {
   "cell_type": "code",
   "execution_count": null,
   "metadata": {},
   "outputs": [],
   "source": [
    "\n"
   ]
  },
  {
   "cell_type": "code",
   "execution_count": null,
   "metadata": {},
   "outputs": [],
   "source": []
  },
  {
   "cell_type": "code",
   "execution_count": null,
   "metadata": {},
   "outputs": [],
   "source": []
  },
  {
   "cell_type": "code",
   "execution_count": 10,
   "metadata": {},
   "outputs": [],
   "source": [
    "A = ['1','2','3','4']"
   ]
  },
  {
   "cell_type": "code",
   "execution_count": 11,
   "metadata": {},
   "outputs": [],
   "source": [
    "P = {'1':p1,'2':p2,'3':p3,'4':p4}"
   ]
  },
  {
   "cell_type": "code",
   "execution_count": 12,
   "metadata": {},
   "outputs": [],
   "source": [
    "S={}\n",
    "for a in A:\n",
    "   \n",
    "    scoreList = []\n",
    "    \n",
    "    S[a] = scoreList"
   ]
  },
  {
   "cell_type": "code",
   "execution_count": 13,
   "metadata": {},
   "outputs": [],
   "source": [
    "score = len(rank)\n",
    "for i in rank:\n",
    "    if group[i] == 1:\n",
    "        S[A[0]].append((score,i))\n",
    "    if group[i] == 2:\n",
    "        S[A[1]].append((score,i))\n",
    "    if group[i] == 3:\n",
    "        S[A[2]].append((score,i))\n",
    "    else:\n",
    "        S[A[3]].append((score,i)) \n",
    "    score = score - 1"
   ]
  },
  {
   "cell_type": "code",
   "execution_count": null,
   "metadata": {},
   "outputs": [],
   "source": []
  },
  {
   "cell_type": "code",
   "execution_count": 14,
   "metadata": {},
   "outputs": [],
   "source": [
    "def swap(dict,i,j):\n",
    "    item = dict[i]\n",
    "    dict[i] = dict[j]\n",
    "    dict[j] = item "
   ]
  },
  {
   "cell_type": "code",
   "execution_count": null,
   "metadata": {},
   "outputs": [],
   "source": []
  },
  {
   "cell_type": "code",
   "execution_count": null,
   "metadata": {},
   "outputs": [],
   "source": []
  },
  {
   "cell_type": "code",
   "execution_count": null,
   "metadata": {},
   "outputs": [],
   "source": []
  },
  {
   "cell_type": "code",
   "execution_count": 15,
   "metadata": {},
   "outputs": [],
   "source": [
    "def DetConstSort(S,A,P,kmax):\n",
    "    counts = {}\n",
    "    minCounts = {}\n",
    "    for ai in A:\n",
    "        counts[ai] = 0\n",
    "        minCounts[ai] = 0\n",
    "    \n",
    "    rankedAttList = {}\n",
    "    rankedScoreList = {}\n",
    "    maxIndices = {}\n",
    "    lastEmpty = 0\n",
    "    k = 0\n",
    "    \n",
    "    while lastEmpty <= kmax:\n",
    "        k = k + 1\n",
    "        tempMinCounts = {}\n",
    "        for ai in A:\n",
    "            tempMinCounts[ai] = math.floor(k * P[ai])\n",
    "        changedMins = []\n",
    "        for ai in A:\n",
    "            if minCounts[ai ] < tempMinCounts[ai]:\n",
    "                #print(ai,counts[ai])\n",
    "                changedMins.append((S[ai][counts[ai]],ai))\n",
    "        if len(changedMins) != 0 :\n",
    "            changedMins.sort(reverse=True)\n",
    "            #ordChangedMins = changedMins\n",
    "        for sai,ai in  changedMins:\n",
    "            rankedAttList[lastEmpty] = ai\n",
    "            \n",
    "            rankedScoreList[lastEmpty] = S[ai][counts[ai]]\n",
    "            maxIndices[lastEmpty] = k\n",
    "            start = lastEmpty\n",
    "            while start > 0 and maxIndices[start - 1] >= start and rankedScoreList[start-1][0] < rankedScoreList[start][0]:\n",
    "                swap(maxIndices,start - 1,start)\n",
    "                swap(rankedAttList,start - 1, start)\n",
    "                swap(rankedScoreList,start - 1, start)\n",
    "                start = start - 1\n",
    "            counts[ai] = counts[ai] + 1 \n",
    "            lastEmpty = lastEmpty + 1\n",
    "        minCounts = tempMinCounts\n",
    "    return (rankedAttList, rankedScoreList)"
   ]
  },
  {
   "cell_type": "code",
   "execution_count": 16,
   "metadata": {},
   "outputs": [],
   "source": [
    "kmax = len(rank) - 1\n",
    "rankedAttList,rankedScoreList = DetConstSort(S,A,P,kmax)"
   ]
  },
  {
   "cell_type": "code",
   "execution_count": 17,
   "metadata": {},
   "outputs": [],
   "source": [
    "detOut = []\n",
    "for key in rankedScoreList.keys():\n",
    "    detOut.append(rankedScoreList[key][1])"
   ]
  },
  {
   "cell_type": "code",
   "execution_count": 18,
   "metadata": {},
   "outputs": [],
   "source": [
    "P = {'1':p1,'2':p2,'3':p3,'4':p4}"
   ]
  },
  {
   "cell_type": "code",
   "execution_count": 19,
   "metadata": {},
   "outputs": [
    {
     "data": {
      "text/plain": [
       "{'1': 0.335, '2': 0.355, '3': 0.213, '4': 0.097}"
      ]
     },
     "execution_count": 19,
     "metadata": {},
     "output_type": "execute_result"
    }
   ],
   "source": [
    "P"
   ]
  },
  {
   "cell_type": "code",
   "execution_count": null,
   "metadata": {},
   "outputs": [],
   "source": []
  },
  {
   "cell_type": "code",
   "execution_count": 20,
   "metadata": {},
   "outputs": [],
   "source": [
    "posCheck = [10,25,50,100,500,1000]\n",
    "z_det = []\n",
    "sumFail = 0\n",
    "count = {'1':0,'2':0,'3':0,'4':0}\n",
    "x_detConst = []\n",
    "y = []\n",
    "A = ['1','2','3','4']\n",
    "totalViolates = 0\n",
    "itrCount = 0\n",
    "sumtfail = 0\n",
    "\n",
    "for i in detOut:\n",
    "    itrCount = itrCount + 1\n",
    "    itemGrp = group[i]\n",
    "    count[str(itemGrp)] = count[str(itemGrp)] + 1\n",
    "    \n",
    "    violates = False\n",
    "    tViolates = 0\n",
    "    for j in A:\n",
    "        bot = math.floor(itrCount*P[j])\n",
    "        top = math.ceil(itrCount*P[j])\n",
    "        #print(j,bot,top)\n",
    "        if (count[j] > top):\n",
    "            violates = True\n",
    "            tViolates = tViolates + 1\n",
    "            \n",
    "    if violates == True:\n",
    "        totalViolates = totalViolates + 1\n",
    "    sumtfail = sumtfail + 4 - tViolates\n",
    "    z_det.append((sumtfail/itrCount)/4*100)\n",
    "    #itrCount = itrCount + 1\n",
    "    #print(n,totalViolates)\n",
    "#     itrCount = itrCount + 1\n",
    "#     x_detConst.append((itrCount-totalViolates)/itrCount*100)\n",
    "#     print('group satisfied by DetConstSort = ',itrCount,(itrCount-totalViolates)/itrCount*100)"
   ]
  },
  {
   "cell_type": "code",
   "execution_count": 21,
   "metadata": {},
   "outputs": [],
   "source": [
    "import pandas as pd\n",
    "import random\n",
    "import math\n",
    "\n",
    "import networkx as nx\n",
    "import networkx as nx\n",
    "from networkx.algorithms import bipartite\n",
    "import random\n",
    "import math\n",
    "\n",
    "\n",
    "df = pd.read_csv('data/GermanCredit_new.csv')\n",
    "numberOfItem = len(rank)\n",
    "\n",
    "genre = df['protected'][0:numberOfItem]\n",
    "allGenre = []\n",
    "allgroup = []\n",
    "for g in genre:\n",
    "    if g not in allGenre:\n",
    "        allGenre.append(g)\n",
    "    allgroup.append(allGenre.index(g))\n",
    "\n",
    "movieId  = df['id'][0:numberOfItem]\n",
    "score =  df['score'][0:numberOfItem]\n",
    "\n",
    "\n",
    "rankScore = []\n",
    "movieToId = {}\n",
    "for i in range(0,len(movieId)):\n",
    "    rankScore.append((score[i],movieId[i],allgroup[i]))\n",
    "    movieToId[movieId[i]] = i  \n",
    "\n",
    "rankScore.sort(reverse=True)\n",
    "\n",
    "\n",
    "\n",
    "movieIdDic = {}\n",
    "rank = []\n",
    "i = 1\n",
    "group = []\n",
    "groupDic = {}\n",
    "for item in rankScore:\n",
    "    rank.append(i)\n",
    "    group.append(item[2])\n",
    "    groupDic[i] = item[2]\n",
    "    movieIdDic[item[1]+1] = i\n",
    "    i = i + 1\n",
    "\n",
    "\n",
    "# rank = rank[0:200]\n",
    "# group = group[0:200]\n",
    "\n",
    "\n",
    "numberOfItem = len(rank)\n",
    "\n",
    "rankGrp = {}\n",
    "for i in range(0, len(rank)):\n",
    "    rankGrp[rank[i]] = group[i]\n",
    "\n",
    "grpCount = {}\n",
    "for i in group:\n",
    "    grpCount[i] = 0\n",
    "\n",
    "rankGrpPos = {}\n",
    "for i in rank:\n",
    "    grpCount[rankGrp[i]] = grpCount[rankGrp[i]] + 1\n",
    "    rankGrpPos[i] = grpCount[rankGrp[i]]\n",
    "\n",
    "rankRange = {}\n",
    "\n",
    "delta = 0\n",
    "for item in rank:\n",
    "    i = rankGrpPos[item]\n",
    "    n = numberOfItem\n",
    "    fp = grpCount[rankGrp[item]]\n",
    "    # r1 = math.floor((i-1) * n / fp)+1\n",
    "    # r2 = math.ceil(i * n / fp)\n",
    "\n",
    "    r1 = math.floor((i - 1 - delta) * n / fp) + 1\n",
    "    r2 = math.ceil((i + delta) * n / fp)\n",
    "\n",
    "    if r1 < 0:\n",
    "        r1 = 0\n",
    "\n",
    "    if r2 > numberOfItem:\n",
    "        r2 = numberOfItem\n",
    "    rankRange[item] = (r1, r2)\n",
    "\n",
    "B = nx.Graph()\n",
    "top_nodes = []\n",
    "bottom_nodes = []\n",
    "\n",
    "for i in rank:\n",
    "    top_nodes.append(i)\n",
    "    bottom_nodes.append(str(i))\n",
    "B.add_nodes_from(top_nodes, bipartite=0)\n",
    "B.add_nodes_from(bottom_nodes, bipartite=1)\n",
    "\n",
    "for i in rank:\n",
    "    r1, r2 = rankRange[i]\n",
    "    # print(r1,r2)\n",
    "    for j in range(1, numberOfItem + 1):\n",
    "        if j >= r1 and j <= r2:\n",
    "            # print(i,j)\n",
    "            B.add_edge(i, str(j), weight=abs(i - j))\n",
    "\n",
    "my_matching = nx.algorithms.bipartite.minimum_weight_full_matching(B, top_nodes, \"weight\")\n",
    "\n",
    "#print(my_matching)\n",
    "\n",
    "rank1 = []\n",
    "rank2 = []\n",
    "for i in range(0, numberOfItem):\n",
    "    rank2.append(0)\n",
    "newRank = []\n",
    "for i in range(1, numberOfItem + 1):\n",
    "    # print(my_matching[i])\n",
    "    newRank.append(int(my_matching[i]))\n",
    "    rank1.append(i)\n",
    "    rank2[int(my_matching[i]) - 1] = i\n",
    "\n",
    "inputRank = []\n",
    "fairRank = []\n",
    "\n",
    "for i in range(0, numberOfItem):\n",
    "    rn1 = rank1[i]\n",
    "    rn2 = rank2[i]\n",
    "    inputRank.append(movieIdDic[rn1])\n",
    "    fairRank.append(movieIdDic[rn2])\n",
    "\n"
   ]
  },
  {
   "cell_type": "code",
   "execution_count": null,
   "metadata": {},
   "outputs": [],
   "source": []
  },
  {
   "cell_type": "code",
   "execution_count": 22,
   "metadata": {},
   "outputs": [],
   "source": [
    "P={0:0,1:0,2:0,3:0}\n",
    "for val in groupDic.values():\n",
    "    P[val] = P[val] + 1\n",
    "    \n",
    "total = sum(P.values())\n",
    "for key,val in P.items():\n",
    "    P[key] = P[key]/total"
   ]
  },
  {
   "cell_type": "code",
   "execution_count": 23,
   "metadata": {},
   "outputs": [],
   "source": [
    "#posCheck = [10,25,50,100,500,1000]\n",
    "#P = {0:p1,1:p2,2:p3,3:p4}\n",
    "\n",
    "sumFail = 0\n",
    "count = {0:0,1:0,2:0,3:0}\n",
    "y_out = []\n",
    "y = []\n",
    "A = [0,1,2,3]\n",
    "\n",
    "itrCount = 1\n",
    "sumtfail = 0\n",
    "for i in newRank:\n",
    "#     q = movieToId[i]\n",
    "    itemGrp = groupDic[i]\n",
    "    #print(itemGrp)\n",
    "    count[itemGrp] = count[itemGrp] + 1\n",
    "    totalViolates = 0\n",
    "    violates = False\n",
    "    tfail = 0\n",
    "    for j in A:\n",
    "        bot = math.floor(itrCount*P[j])\n",
    "        top = math.ceil(itrCount*P[j])\n",
    "        #print(j,bot,top)\n",
    "        if (count[j] > top):\n",
    "            violates = True\n",
    "    #print(n,totalViolates)\n",
    "    if violates == True:\n",
    "        totalViolates = totalViolates + 1\n",
    "    sumtfail =  sumtfail + 4 + tfail\n",
    "    #print(sumtfail)\n",
    "    y_out.append(sumtfail/(itrCount*4)*100)\n",
    "    itrCount = itrCount + 1\n",
    "    \n",
    "    #print('n = ',itrCount,'pfairness satisfied by ApproxMultiIPF ',(itrCount-totalViolates)/itrCount*100)"
   ]
  },
  {
   "cell_type": "code",
   "execution_count": null,
   "metadata": {},
   "outputs": [],
   "source": []
  },
  {
   "cell_type": "code",
   "execution_count": 24,
   "metadata": {},
   "outputs": [
    {
     "data": {
      "image/png": "[encoded data removed]",
      "text/plain": [
       "<Figure size 432x288 with 1 Axes>"
      ]
     },
     "metadata": {
      "needs_background": "light"
     },
     "output_type": "display_data"
    }
   ],
   "source": [
    "import matplotlib.pyplot as plt\n",
    "plt.rcParams.update({'font.size': 18})\n",
    "fig, ax = plt.subplots(nrows=1, ncols=1)\n",
    "\n",
    "import numpy as np\n",
    "plt.plot(y_out)\n",
    "plt.plot(z_det)\n",
    "# create an index for each tick position\n",
    "\n",
    "plt.ylabel('Percentage of groups',fontweight='bold',fontsize=20)\n",
    "plt.xlabel('Number of items',fontweight='bold',fontsize=20)\n",
    "\n",
    "plt.yticks([40,60,80,100],['40','60','80','100'])\n",
    "plt.legend([\"ApproxMultiValuedIPF\",\"DetConstSort\"],fontsize=18)\n",
    "plt.show()"
   ]
  },
  {
   "cell_type": "code",
   "execution_count": null,
   "metadata": {},
   "outputs": [],
   "source": []
  },
  {
   "cell_type": "code",
   "execution_count": null,
   "metadata": {},
   "outputs": [],
   "source": []
  },
  {
   "cell_type": "code",
   "execution_count": null,
   "metadata": {},
   "outputs": [],
   "source": []
  },
  {
   "cell_type": "code",
   "execution_count": null,
   "metadata": {},
   "outputs": [],
   "source": []
  },
  {
   "cell_type": "code",
   "execution_count": null,
   "metadata": {},
   "outputs": [],
   "source": []
  },
  {
   "cell_type": "code",
   "execution_count": null,
   "metadata": {},
   "outputs": [],
   "source": []
  },
  {
   "cell_type": "code",
   "execution_count": null,
   "metadata": {},
   "outputs": [],
   "source": []
  },
  {
   "cell_type": "code",
   "execution_count": null,
   "metadata": {},
   "outputs": [],
   "source": []
  },
  {
   "cell_type": "code",
   "execution_count": null,
   "metadata": {},
   "outputs": [],
   "source": []
  },
  {
   "cell_type": "code",
   "execution_count": null,
   "metadata": {},
   "outputs": [],
   "source": []
  },
  {
   "cell_type": "code",
   "execution_count": null,
   "metadata": {},
   "outputs": [],
   "source": []
  },
  {
   "cell_type": "code",
   "execution_count": null,
   "metadata": {},
   "outputs": [],
   "source": []
  },
  {
   "cell_type": "code",
   "execution_count": null,
   "metadata": {},
   "outputs": [],
   "source": []
  }
 ],
 "metadata": {
  "kernelspec": {
   "display_name": "Python 3 (ipykernel)",
   "language": "python",
   "name": "python3"
  },
  "language_info": {
   "codemirror_mode": {
    "name": "ipython",
    "version": 3
   },
   "file_extension": ".py",
   "mimetype": "text/x-python",
   "name": "python",
   "nbconvert_exporter": "python",
   "pygments_lexer": "ipython3",
   "version": "3.7.16"
  }
 },
 "nbformat": 4,
 "nbformat_minor": 2
}
