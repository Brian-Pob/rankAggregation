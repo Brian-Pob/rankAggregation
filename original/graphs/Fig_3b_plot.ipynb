{
 "cells": [
  {
   "cell_type": "code",
   "execution_count": null,
   "metadata": {},
   "outputs": [],
   "source": []
  },
  {
   "cell_type": "code",
   "execution_count": 3,
   "metadata": {},
   "outputs": [],
   "source": [
    "import pandas as pd\n",
    "import os\n",
    "import pandas as pd\n",
    "from GrBinaryIPF import GrBinaryIPF\n",
    "import math\n",
    "import matplotlib.pyplot as plt\n",
    "import numpy as np\n",
    "\n",
    "fpath =  \"data/GermanCredit_new.csv\""
   ]
  },
  {
   "cell_type": "code",
   "execution_count": 4,
   "metadata": {},
   "outputs": [],
   "source": [
    "data = pd.read_csv(fpath)"
   ]
  },
  {
   "cell_type": "code",
   "execution_count": 5,
   "metadata": {},
   "outputs": [
    {
     "data": {
      "text/html": [
       "<div>\n",
       "<style scoped>\n",
       "    .dataframe tbody tr th:only-of-type {\n",
       "        vertical-align: middle;\n",
       "    }\n",
       "\n",
       "    .dataframe tbody tr th {\n",
       "        vertical-align: top;\n",
       "    }\n",
       "\n",
       "    .dataframe thead th {\n",
       "        text-align: right;\n",
       "    }\n",
       "</style>\n",
       "<table border=\"1\" class=\"dataframe\">\n",
       "  <thead>\n",
       "    <tr style=\"text-align: right;\">\n",
       "      <th></th>\n",
       "      <th>id</th>\n",
       "      <th>DurationMonth</th>\n",
       "      <th>CreditAmount</th>\n",
       "      <th>score</th>\n",
       "      <th>sex</th>\n",
       "      <th>age35</th>\n",
       "      <th>protected</th>\n",
       "    </tr>\n",
       "  </thead>\n",
       "  <tbody>\n",
       "    <tr>\n",
       "      <th>0</th>\n",
       "      <td>0</td>\n",
       "      <td>0.029412</td>\n",
       "      <td>0.949433</td>\n",
       "      <td>0.600715</td>\n",
       "      <td>1</td>\n",
       "      <td>0</td>\n",
       "      <td>2</td>\n",
       "    </tr>\n",
       "    <tr>\n",
       "      <th>1</th>\n",
       "      <td>1</td>\n",
       "      <td>0.647059</td>\n",
       "      <td>0.686310</td>\n",
       "      <td>0.496131</td>\n",
       "      <td>0</td>\n",
       "      <td>1</td>\n",
       "      <td>3</td>\n",
       "    </tr>\n",
       "    <tr>\n",
       "      <th>2</th>\n",
       "      <td>2</td>\n",
       "      <td>0.117647</td>\n",
       "      <td>0.898426</td>\n",
       "      <td>0.506866</td>\n",
       "      <td>1</td>\n",
       "      <td>0</td>\n",
       "      <td>2</td>\n",
       "    </tr>\n",
       "    <tr>\n",
       "      <th>3</th>\n",
       "      <td>3</td>\n",
       "      <td>0.558824</td>\n",
       "      <td>0.580059</td>\n",
       "      <td>0.599482</td>\n",
       "      <td>1</td>\n",
       "      <td>0</td>\n",
       "      <td>2</td>\n",
       "    </tr>\n",
       "    <tr>\n",
       "      <th>4</th>\n",
       "      <td>4</td>\n",
       "      <td>0.294118</td>\n",
       "      <td>0.745791</td>\n",
       "      <td>0.550060</td>\n",
       "      <td>1</td>\n",
       "      <td>0</td>\n",
       "      <td>2</td>\n",
       "    </tr>\n",
       "  </tbody>\n",
       "</table>\n",
       "</div>"
      ],
      "text/plain": [
       "   id  DurationMonth  CreditAmount     score  sex  age35  protected\n",
       "0   0       0.029412      0.949433  0.600715    1      0          2\n",
       "1   1       0.647059      0.686310  0.496131    0      1          3\n",
       "2   2       0.117647      0.898426  0.506866    1      0          2\n",
       "3   3       0.558824      0.580059  0.599482    1      0          2\n",
       "4   4       0.294118      0.745791  0.550060    1      0          2"
      ]
     },
     "execution_count": 5,
     "metadata": {},
     "output_type": "execute_result"
    }
   ],
   "source": [
    "data.head()"
   ]
  },
  {
   "cell_type": "code",
   "execution_count": 6,
   "metadata": {},
   "outputs": [],
   "source": [
    "rank = np.argsort(data[\"score\"])"
   ]
  },
  {
   "cell_type": "code",
   "execution_count": 7,
   "metadata": {},
   "outputs": [],
   "source": [
    "group = data[\"protected\"]"
   ]
  },
  {
   "cell_type": "code",
   "execution_count": 8,
   "metadata": {},
   "outputs": [
    {
     "data": {
      "text/plain": [
       "{1, 2, 3, 4}"
      ]
     },
     "execution_count": 8,
     "metadata": {},
     "output_type": "execute_result"
    }
   ],
   "source": [
    "set(group)"
   ]
  },
  {
   "cell_type": "code",
   "execution_count": null,
   "metadata": {},
   "outputs": [],
   "source": []
  },
  {
   "cell_type": "code",
   "execution_count": 9,
   "metadata": {},
   "outputs": [],
   "source": [
    "itemList = set(rank)"
   ]
  },
  {
   "cell_type": "code",
   "execution_count": 10,
   "metadata": {},
   "outputs": [],
   "source": [
    "G1 = []\n",
    "G2 = []\n",
    "G3 = []\n",
    "G4 = []\n",
    "for i in range(0,len(itemList)):\n",
    "    if(group[i] == 1):\n",
    "        G1.append(group[i])\n",
    "    elif(group[i] == 2):\n",
    "        G2.append(group[i])\n",
    "    elif(group[i] == 3):\n",
    "        G3.append(group[i])\n",
    "    else:\n",
    "        G4.append(group[i])"
   ]
  },
  {
   "cell_type": "code",
   "execution_count": 11,
   "metadata": {},
   "outputs": [],
   "source": [
    "p1 = len(G1)/len(itemList)\n",
    "p2 = len(G2)/len(itemList)\n",
    "p3 = len(G3)/len(itemList)\n",
    "p4 = len(G4)/len(itemList)"
   ]
  },
  {
   "cell_type": "code",
   "execution_count": null,
   "metadata": {},
   "outputs": [],
   "source": []
  },
  {
   "cell_type": "code",
   "execution_count": null,
   "metadata": {},
   "outputs": [],
   "source": []
  },
  {
   "cell_type": "code",
   "execution_count": null,
   "metadata": {},
   "outputs": [],
   "source": [
    "\n"
   ]
  },
  {
   "cell_type": "code",
   "execution_count": null,
   "metadata": {},
   "outputs": [],
   "source": []
  },
  {
   "cell_type": "code",
   "execution_count": null,
   "metadata": {},
   "outputs": [],
   "source": []
  },
  {
   "cell_type": "code",
   "execution_count": null,
   "metadata": {},
   "outputs": [],
   "source": []
  },
  {
   "cell_type": "code",
   "execution_count": null,
   "metadata": {},
   "outputs": [],
   "source": []
  },
  {
   "cell_type": "code",
   "execution_count": null,
   "metadata": {},
   "outputs": [],
   "source": []
  },
  {
   "cell_type": "code",
   "execution_count": null,
   "metadata": {},
   "outputs": [],
   "source": []
  },
  {
   "cell_type": "code",
   "execution_count": null,
   "metadata": {},
   "outputs": [],
   "source": []
  },
  {
   "cell_type": "code",
   "execution_count": null,
   "metadata": {},
   "outputs": [],
   "source": []
  },
  {
   "cell_type": "code",
   "execution_count": null,
   "metadata": {},
   "outputs": [],
   "source": []
  },
  {
   "cell_type": "code",
   "execution_count": 12,
   "metadata": {},
   "outputs": [],
   "source": [
    "A = ['1','2','3','4']"
   ]
  },
  {
   "cell_type": "code",
   "execution_count": 13,
   "metadata": {},
   "outputs": [],
   "source": [
    "P = {'1':p1,'2':p2,'3':p3,'4':p4}"
   ]
  },
  {
   "cell_type": "code",
   "execution_count": 14,
   "metadata": {},
   "outputs": [],
   "source": [
    "S={}\n",
    "for a in A:\n",
    "   \n",
    "    scoreList = []\n",
    "    \n",
    "    S[a] = scoreList"
   ]
  },
  {
   "cell_type": "code",
   "execution_count": 15,
   "metadata": {},
   "outputs": [],
   "source": [
    "score = len(rank)\n",
    "for i in rank:\n",
    "    if group[i] == 1:\n",
    "        S[A[0]].append((score,i))\n",
    "    if group[i] == 2:\n",
    "        S[A[1]].append((score,i))\n",
    "    if group[i] == 3:\n",
    "        S[A[2]].append((score,i))\n",
    "    else:\n",
    "        S[A[3]].append((score,i)) \n",
    "    score = score - 1"
   ]
  },
  {
   "cell_type": "code",
   "execution_count": null,
   "metadata": {},
   "outputs": [],
   "source": []
  },
  {
   "cell_type": "code",
   "execution_count": 16,
   "metadata": {},
   "outputs": [],
   "source": [
    "def swap(dict,i,j):\n",
    "    item = dict[i]\n",
    "    dict[i] = dict[j]\n",
    "    dict[j] = item "
   ]
  },
  {
   "cell_type": "code",
   "execution_count": null,
   "metadata": {},
   "outputs": [],
   "source": []
  },
  {
   "cell_type": "code",
   "execution_count": null,
   "metadata": {},
   "outputs": [],
   "source": []
  },
  {
   "cell_type": "code",
   "execution_count": null,
   "metadata": {},
   "outputs": [],
   "source": []
  },
  {
   "cell_type": "code",
   "execution_count": 17,
   "metadata": {},
   "outputs": [],
   "source": [
    "def DetConstSort(S,A,P,kmax):\n",
    "    counts = {}\n",
    "    minCounts = {}\n",
    "    for ai in A:\n",
    "        counts[ai] = 0\n",
    "        minCounts[ai] = 0\n",
    "    \n",
    "    rankedAttList = {}\n",
    "    rankedScoreList = {}\n",
    "    maxIndices = {}\n",
    "    lastEmpty = 0\n",
    "    k = 0\n",
    "    \n",
    "    while lastEmpty <= kmax:\n",
    "        k = k + 1\n",
    "        tempMinCounts = {}\n",
    "        for ai in A:\n",
    "            tempMinCounts[ai] = math.floor(k * P[ai])\n",
    "        changedMins = []\n",
    "        for ai in A:\n",
    "            if minCounts[ai ] < tempMinCounts[ai]:\n",
    "                #print(ai,counts[ai])\n",
    "                changedMins.append((S[ai][counts[ai]],ai))\n",
    "        if len(changedMins) != 0 :\n",
    "            changedMins.sort(reverse=True)\n",
    "            #ordChangedMins = changedMins\n",
    "        for sai,ai in  changedMins:\n",
    "            rankedAttList[lastEmpty] = ai\n",
    "            \n",
    "            rankedScoreList[lastEmpty] = S[ai][counts[ai]]\n",
    "            maxIndices[lastEmpty] = k\n",
    "            start = lastEmpty\n",
    "            while start > 0 and maxIndices[start - 1] >= start and rankedScoreList[start-1][0] < rankedScoreList[start][0]:\n",
    "                swap(maxIndices,start - 1,start)\n",
    "                swap(rankedAttList,start - 1, start)\n",
    "                swap(rankedScoreList,start - 1, start)\n",
    "                start = start - 1\n",
    "            counts[ai] = counts[ai] + 1 \n",
    "            lastEmpty = lastEmpty + 1\n",
    "        minCounts = tempMinCounts\n",
    "    return (rankedAttList, rankedScoreList)"
   ]
  },
  {
   "cell_type": "code",
   "execution_count": 18,
   "metadata": {},
   "outputs": [],
   "source": [
    "kmax = len(rank) - 1\n",
    "rankedAttList,rankedScoreList = DetConstSort(S,A,P,kmax)"
   ]
  },
  {
   "cell_type": "code",
   "execution_count": 19,
   "metadata": {},
   "outputs": [],
   "source": [
    "detOut = []\n",
    "for key in rankedScoreList.keys():\n",
    "    detOut.append(rankedScoreList[key][1])"
   ]
  },
  {
   "cell_type": "code",
   "execution_count": 20,
   "metadata": {},
   "outputs": [],
   "source": [
    "P = {'1':p1,'2':p2,'3':p3,'4':p4}"
   ]
  },
  {
   "cell_type": "code",
   "execution_count": 21,
   "metadata": {},
   "outputs": [
    {
     "data": {
      "text/plain": [
       "{'1': 0.335, '2': 0.355, '3': 0.213, '4': 0.097}"
      ]
     },
     "execution_count": 21,
     "metadata": {},
     "output_type": "execute_result"
    }
   ],
   "source": [
    "P"
   ]
  },
  {
   "cell_type": "code",
   "execution_count": 22,
   "metadata": {},
   "outputs": [],
   "source": [
    "\n",
    "def ApproxMultiValuedIPF(rank,group):\n",
    "    rankGrp = {}\n",
    "    for i in range(0,len(rank)):\n",
    "        rankGrp[rank[i]] = group[i]\n",
    "\n",
    "    grpCount = {}\n",
    "    for i in group:\n",
    "        grpCount[i] = 0\n",
    "\n",
    "    rankGrpPos = {}\n",
    "    for i in rank:\n",
    "        grpCount[rankGrp[i]] = grpCount[rankGrp[i]] + 1\n",
    "        rankGrpPos[i] = grpCount[rankGrp[i]]\n",
    "    numberOfItem = len(rank)\n",
    "    rankRange = {}\n",
    "    for item in rank:\n",
    "        i = rankGrpPos[item]\n",
    "        n = numberOfItem\n",
    "        fp = grpCount[rankGrp[item]]\n",
    "        r1 = math.floor(i*n/fp)\n",
    "        r2 = math.ceil((i+1)*n/fp) - 1\n",
    "        if r2 > numberOfItem:\n",
    "            r2 = numberOfItem\n",
    "        rankRange[item] = (r1,r2)\n",
    "\n",
    "\n",
    "    B = nx.Graph()\n",
    "    top_nodes = []\n",
    "    bottom_nodes = []\n",
    "\n",
    "    for i in rank:\n",
    "        top_nodes.append(i)\n",
    "        bottom_nodes.append(str(i))\n",
    "    B.add_nodes_from(top_nodes, bipartite=0)\n",
    "    B.add_nodes_from(bottom_nodes, bipartite=1)\n",
    "\n",
    "    for i in rank:\n",
    "        r1,r2 = rankRange[i]\n",
    "        #print(r1,r2)\n",
    "        for j in range(1,numberOfItem+1):\n",
    "            if j >= r1 and j <= r2:\n",
    "                print(i,j)\n",
    "                B.add_edge(i, str(j), weight = abs(i-j))\n",
    "            else:\n",
    "                B.add_edge(i, str(j), weight=1000000000)\n",
    "                print(i,j)\n",
    "\n",
    "    my_matching = nx.algorithms.bipartite.minimum_weight_full_matching(B, top_nodes, \"weight\")"
   ]
  },
  {
   "cell_type": "code",
   "execution_count": 23,
   "metadata": {},
   "outputs": [],
   "source": [
    "P = {'1':p1,'2':p2,'3':p3,'4':p4}"
   ]
  },
  {
   "cell_type": "code",
   "execution_count": 24,
   "metadata": {},
   "outputs": [],
   "source": [
    "posCheck = [10,25,50,100,500,1000]\n",
    "z_det = []\n",
    "y_out = [100 for i in range(len(rank))]\n",
    "sumFail = 0\n",
    "count = {'1':0,'2':0,'3':0,'4':0}\n",
    "x_detConst = []\n",
    "y = []\n",
    "A = ['1','2','3','4']\n",
    "totalViolates = 0\n",
    "itrCount = 0\n",
    "sumtfail = 0\n",
    "\n",
    "for i in detOut:\n",
    "    itrCount = itrCount + 1\n",
    "    itemGrp = group[i]\n",
    "    count[str(itemGrp)] = count[str(itemGrp)] + 1\n",
    "    \n",
    "    violates = False\n",
    "    tViolates = 0\n",
    "    for j in A:\n",
    "        bot = math.floor(itrCount*P[j])\n",
    "        top = math.ceil(itrCount*P[j])\n",
    "        #print(j,bot,top)\n",
    "        if (count[j] > top):\n",
    "            violates = True\n",
    "            tViolates = tViolates + 1\n",
    "            \n",
    "    if violates == True:\n",
    "        totalViolates = totalViolates + 1\n",
    "    sumtfail = sumtfail + 4 - tViolates\n",
    "    z_det.append((sumtfail/itrCount)/4*100)\n",
    "    #print(n,totalViolates)\n",
    "#     itrCount = itrCount + 1\n",
    "#     x_detConst.append((itrCount-totalViolates)/itrCount*100)\n",
    "#     print('group satisfied by DetConstSort = ',itrCount,(itrCount-totalViolates)/itrCount*100)"
   ]
  },
  {
   "cell_type": "code",
   "execution_count": 37,
   "metadata": {},
   "outputs": [
    {
     "data": {
      "text/html": [
       "<div>\n",
       "<style scoped>\n",
       "    .dataframe tbody tr th:only-of-type {\n",
       "        vertical-align: middle;\n",
       "    }\n",
       "\n",
       "    .dataframe tbody tr th {\n",
       "        vertical-align: top;\n",
       "    }\n",
       "\n",
       "    .dataframe thead th {\n",
       "        text-align: right;\n",
       "    }\n",
       "</style>\n",
       "<table border=\"1\" class=\"dataframe\">\n",
       "  <thead>\n",
       "    <tr style=\"text-align: right;\">\n",
       "      <th></th>\n",
       "      <th>0</th>\n",
       "      <th>1</th>\n",
       "      <th>2</th>\n",
       "      <th>3</th>\n",
       "      <th>4</th>\n",
       "      <th>5</th>\n",
       "      <th>6</th>\n",
       "    </tr>\n",
       "  </thead>\n",
       "  <tbody>\n",
       "    <tr>\n",
       "      <th>0</th>\n",
       "      <td>1000</td>\n",
       "      <td>800</td>\n",
       "      <td>600</td>\n",
       "      <td>500</td>\n",
       "      <td>400</td>\n",
       "      <td>200</td>\n",
       "      <td>100</td>\n",
       "    </tr>\n",
       "    <tr>\n",
       "      <th>1</th>\n",
       "      <td>46843</td>\n",
       "      <td>28556</td>\n",
       "      <td>16853</td>\n",
       "      <td>12043</td>\n",
       "      <td>8299</td>\n",
       "      <td>2350</td>\n",
       "      <td>700</td>\n",
       "    </tr>\n",
       "    <tr>\n",
       "      <th>2</th>\n",
       "      <td>42456</td>\n",
       "      <td>23203</td>\n",
       "      <td>14523</td>\n",
       "      <td>10231</td>\n",
       "      <td>7236</td>\n",
       "      <td>1536</td>\n",
       "      <td>501</td>\n",
       "    </tr>\n",
       "  </tbody>\n",
       "</table>\n",
       "</div>"
      ],
      "text/plain": [
       "       0      1      2      3     4     5    6\n",
       "0   1000    800    600    500   400   200  100\n",
       "1  46843  28556  16853  12043  8299  2350  700\n",
       "2  42456  23203  14523  10231  7236  1536  501"
      ]
     },
     "execution_count": 37,
     "metadata": {},
     "output_type": "execute_result"
    }
   ],
   "source": [
    "res = pd.read_csv(\"Fig_3b_result.csv\")\n",
    "res.head()"
   ]
  },
  {
   "cell_type": "code",
   "execution_count": 47,
   "metadata": {},
   "outputs": [],
   "source": [
    "x = list(res.iloc[0, :])\n",
    "y = list(res.iloc[1, :])\n",
    "z = list(res.iloc[2, :])\n"
   ]
  },
  {
   "cell_type": "code",
   "execution_count": 48,
   "metadata": {},
   "outputs": [],
   "source": [
    "# sumFail = 0\n",
    "# sumtfail = 0\n",
    "# count = {0:0,1:0}\n",
    "# y_det = []\n",
    "# z_det = []\n",
    "# A = [0,1]\n",
    "# P=[  0.59, 0.067] \n",
    "# for i in range(0,len(rank)):\n",
    "#     itemId = detOut[i]\n",
    "#     itemGrp = group[itemId]\n",
    "    \n",
    "#     count[itemGrp] = count[itemGrp] + 1\n",
    "    \n",
    "#     violates = 0\n",
    "#     tViolates = 0\n",
    "#     n = i + 1\n",
    "#     for j in A:\n",
    "#         bot = math.floor(n*P[j])\n",
    "#         top = math.ceil(n*P[j])\n",
    "#         #print(j,bot,top,count[j])\n",
    "#         if ((count[j] <= top ) == False ):\n",
    "#             violates =  1\n",
    "#             tViolates = tViolates + 1\n",
    "#             #print('----------------------',j,bot,top,count[j])\n",
    "#     print(n,violates)\n",
    "    \n",
    "#     sumFail = sumFail +  violates\n",
    "#     sumtfail = sumtfail + 2 - tViolates\n",
    "    \n",
    "#     y_det.append(100-sumFail/n*100)\n",
    "#     z_det.append((sumtfail/n)/2*100)\n",
    "    \n",
    "#     print('sumfail = ',n,100-sumFail/n*100)\n",
    "#     print('fail group = ',n,tViolates)"
   ]
  },
  {
   "cell_type": "code",
   "execution_count": 49,
   "metadata": {},
   "outputs": [],
   "source": [
    "def KendallTau(P,Q,allids):\n",
    "    combinations = [p for p in itertools.product(allids, repeat=2)]\n",
    "    distance = 0\n",
    "    for tup in combinations:\n",
    "        if P[tup[0]] < P[tup[1]] and  Q[tup[1]] < Q[tup[0]]:\n",
    "            distance = distance + 1\n",
    "    return distance\n",
    "P={}\n",
    "Q = {}\n",
    "import itertools\n",
    "allids = []\n",
    "for i in range(0,len(detOut)):\n",
    "    allids.append(i)\n",
    "    \n",
    "for i in range(0, len(detOut)):\n",
    "    P[detOut[i]] = i\n",
    "    Q[rank[i]] = i\n"
   ]
  },
  {
   "cell_type": "code",
   "execution_count": 50,
   "metadata": {},
   "outputs": [],
   "source": [
    "Rout = []"
   ]
  },
  {
   "cell_type": "code",
   "execution_count": 51,
   "metadata": {},
   "outputs": [],
   "source": [
    "# sumFail = 0\n",
    "# count = {'1':0,'2':0,'3':0,'4':0}\n",
    "# x_detConst = []\n",
    "# y = []\n",
    "# A = ['1','2','3','4']\n",
    "# totalViolates = 0\n",
    "# for i in Rout:\n",
    "#     itemGrp = group[i]\n",
    "#     count[str(itemGrp)] = count[str(itemGrp)] + 1\n",
    "    \n",
    "#     violates = False\n",
    "#     n = i + 1\n",
    "#     for j in A:\n",
    "#         bot = math.floor(n*P[j])\n",
    "#         top = math.ceil(n*P[j])\n",
    "#         #print(j,bot,top)\n",
    "#         if (count[j] > top ):\n",
    "#             violates = True\n",
    "#     if violates == True:\n",
    "#         totalViolates = totalViolates + 1\n",
    "#     #print(n,totalViolates)\n",
    "    \n",
    "#     x_detConst.append((n-totalViolates)/n*100)\n",
    "#     print('pfairness satisfied by ApproxMultiValuedIPF = ',n,(n-totalViolates)/n*100)"
   ]
  },
  {
   "cell_type": "code",
   "execution_count": null,
   "metadata": {},
   "outputs": [],
   "source": []
  },
  {
   "cell_type": "code",
   "execution_count": 52,
   "metadata": {},
   "outputs": [],
   "source": [
    "# P={}\n",
    "# Q = {}\n",
    "# #Rout.append(8)\n",
    "# import itertools\n",
    "# allids = []\n",
    "# for i in range(0,len(Rout)):\n",
    "#     allids.append(i)\n",
    "    \n",
    "# for i in range(0, len(Rout)):\n",
    "#     P[Rout[i]] = i\n",
    "#     Q[rank[i]] = i\n",
    "\n",
    "# KendallTau(P,Q,allids)"
   ]
  },
  {
   "cell_type": "code",
   "execution_count": 53,
   "metadata": {},
   "outputs": [
    {
     "data": {
      "image/png": "[encoded data removed]",
      "text/plain": [
       "<Figure size 432x288 with 1 Axes>"
      ]
     },
     "metadata": {
      "needs_background": "light"
     },
     "output_type": "display_data"
    }
   ],
   "source": [
    "import matplotlib.pyplot as plt\n",
    "plt.rcParams.update({'font.size': 18})\n",
    "fig, ax = plt.subplots(nrows=1, ncols=1)\n",
    "\n",
    "plt.plot(x,y)\n",
    "plt.plot(x,z)\n",
    "# create an index for each tick position\n",
    "\n",
    "plt.ylabel('Kendall tau distance',fontweight='bold',fontsize=20)\n",
    "plt.xlabel('Number of items',fontweight='bold',fontsize=20)\n",
    "\n",
    "#plt.xticks([100,20,30,40,50], ['10','20','30','40','50'])\n",
    "#plt.yticks([1000,2000,3000,4000], ['1000','2000','3000',''])\n",
    "plt.legend([\"ApproxMultiValuedIPF\",\"DetConstSort\"],fontsize=18,loc='upper left')\n",
    "#fig.savefig(\"newfig/fig_3/new/ApproxMultiValuedIPF_vs_detConstSort_german_kendalTau.png\", bbox_inches='tight', dpi=480)\n",
    "plt.show()"
   ]
  },
  {
   "cell_type": "code",
   "execution_count": null,
   "metadata": {},
   "outputs": [],
   "source": []
  },
  {
   "cell_type": "code",
   "execution_count": null,
   "metadata": {},
   "outputs": [],
   "source": []
  }
 ],
 "metadata": {
  "kernelspec": {
   "display_name": "Python 3",
   "language": "python",
   "name": "python3"
  },
  "language_info": {
   "codemirror_mode": {
    "name": "ipython",
    "version": 3
   },
   "file_extension": ".py",
   "mimetype": "text/x-python",
   "name": "python",
   "nbconvert_exporter": "python",
   "pygments_lexer": "ipython3",
   "version": "3.7.4"
  }
 },
 "nbformat": 4,
 "nbformat_minor": 2
}
