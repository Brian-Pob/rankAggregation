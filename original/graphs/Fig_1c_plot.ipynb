{
 "cells": [
  {
   "cell_type": "code",
   "execution_count": 1,
   "metadata": {},
   "outputs": [],
   "source": [
    "import gurobipy as gp\n",
    "from gurobipy import GRB\n",
    "from gurobipy import tuplelist\n",
    "import itertools  \n",
    "import pandas as pd\n",
    "import os\n",
    "import math\n",
    "import matplotlib.pyplot as plt"
   ]
  },
  {
   "cell_type": "code",
   "execution_count": 2,
   "metadata": {},
   "outputs": [],
   "source": [
    "\n",
    "data = pd.read_csv(r\"data/unique_200.csv\")"
   ]
  },
  {
   "cell_type": "code",
   "execution_count": 3,
   "metadata": {},
   "outputs": [
    {
     "data": {
      "text/html": [
       "<div>\n",
       "<style scoped>\n",
       "    .dataframe tbody tr th:only-of-type {\n",
       "        vertical-align: middle;\n",
       "    }\n",
       "\n",
       "    .dataframe tbody tr th {\n",
       "        vertical-align: top;\n",
       "    }\n",
       "\n",
       "    .dataframe thead th {\n",
       "        text-align: right;\n",
       "    }\n",
       "</style>\n",
       "<table border=\"1\" class=\"dataframe\">\n",
       "  <thead>\n",
       "    <tr style=\"text-align: right;\">\n",
       "      <th></th>\n",
       "      <th>Unnamed: 0</th>\n",
       "      <th>Unnamed: 1</th>\n",
       "      <th>Unnamed: 2</th>\n",
       "      <th>Unnamed: 3</th>\n",
       "      <th>Unnamed: 4</th>\n",
       "      <th>Unnamed: 5</th>\n",
       "      <th>Unnamed: 6</th>\n",
       "      <th>Unnamed: 7</th>\n",
       "      <th>genre</th>\n",
       "    </tr>\n",
       "  </thead>\n",
       "  <tbody>\n",
       "    <tr>\n",
       "      <th>0</th>\n",
       "      <td>8194</td>\n",
       "      <td>47</td>\n",
       "      <td>77</td>\n",
       "      <td>72</td>\n",
       "      <td>150</td>\n",
       "      <td>96</td>\n",
       "      <td>161</td>\n",
       "      <td>224</td>\n",
       "      <td>Drama</td>\n",
       "    </tr>\n",
       "    <tr>\n",
       "      <th>1</th>\n",
       "      <td>4098</td>\n",
       "      <td>110</td>\n",
       "      <td>119</td>\n",
       "      <td>87</td>\n",
       "      <td>147</td>\n",
       "      <td>259</td>\n",
       "      <td>93</td>\n",
       "      <td>24</td>\n",
       "      <td>Drama</td>\n",
       "    </tr>\n",
       "    <tr>\n",
       "      <th>2</th>\n",
       "      <td>3074</td>\n",
       "      <td>185</td>\n",
       "      <td>157</td>\n",
       "      <td>21</td>\n",
       "      <td>77</td>\n",
       "      <td>124</td>\n",
       "      <td>133</td>\n",
       "      <td>47</td>\n",
       "      <td>Western</td>\n",
       "    </tr>\n",
       "    <tr>\n",
       "      <th>3</th>\n",
       "      <td>55814</td>\n",
       "      <td>161</td>\n",
       "      <td>116</td>\n",
       "      <td>46</td>\n",
       "      <td>142</td>\n",
       "      <td>86</td>\n",
       "      <td>32</td>\n",
       "      <td>181</td>\n",
       "      <td>Drama</td>\n",
       "    </tr>\n",
       "    <tr>\n",
       "      <th>4</th>\n",
       "      <td>8711</td>\n",
       "      <td>169</td>\n",
       "      <td>178</td>\n",
       "      <td>239</td>\n",
       "      <td>45</td>\n",
       "      <td>87</td>\n",
       "      <td>14</td>\n",
       "      <td>250</td>\n",
       "      <td>Comedy</td>\n",
       "    </tr>\n",
       "  </tbody>\n",
       "</table>\n",
       "</div>"
      ],
      "text/plain": [
       "   Unnamed: 0  Unnamed: 1  Unnamed: 2  Unnamed: 3  Unnamed: 4  Unnamed: 5  \\\n",
       "0        8194          47          77          72         150          96   \n",
       "1        4098         110         119          87         147         259   \n",
       "2        3074         185         157          21          77         124   \n",
       "3       55814         161         116          46         142          86   \n",
       "4        8711         169         178         239          45          87   \n",
       "\n",
       "   Unnamed: 6  Unnamed: 7    genre  \n",
       "0         161         224    Drama  \n",
       "1          93          24    Drama  \n",
       "2         133          47  Western  \n",
       "3          32         181    Drama  \n",
       "4          14         250   Comedy  "
      ]
     },
     "execution_count": 3,
     "metadata": {},
     "output_type": "execute_result"
    }
   ],
   "source": [
    "data.head()"
   ]
  },
  {
   "cell_type": "code",
   "execution_count": 4,
   "metadata": {},
   "outputs": [],
   "source": [
    "row = data.iloc[ :,0]"
   ]
  },
  {
   "cell_type": "code",
   "execution_count": 5,
   "metadata": {},
   "outputs": [
    {
     "name": "stdout",
     "output_type": "stream",
     "text": [
      "9\n"
     ]
    }
   ],
   "source": [
    "movies = [i for i in range(1,265)]\n",
    "nrow = len(data)\n",
    "ncol = int(data.size/len(data))\n",
    "print(ncol)"
   ]
  },
  {
   "cell_type": "code",
   "execution_count": null,
   "metadata": {},
   "outputs": [],
   "source": []
  },
  {
   "cell_type": "code",
   "execution_count": 6,
   "metadata": {},
   "outputs": [],
   "source": [
    "rankDic = {}\n",
    "rankList = []\n",
    "for i in range(1,ncol-1):\n",
    "    row = data.iloc[:,i ]\n",
    "    \n",
    "    #print(row)\n",
    "    rank = {}\n",
    "    for j in range(0,nrow):\n",
    "        rankDic[(i-1,row[j])] = j\n",
    "        rank[row[j]] = j  \n",
    "    rankList.append(rank)"
   ]
  },
  {
   "cell_type": "code",
   "execution_count": 7,
   "metadata": {},
   "outputs": [],
   "source": [
    "itemList = movies"
   ]
  },
  {
   "cell_type": "code",
   "execution_count": 8,
   "metadata": {},
   "outputs": [
    {
     "data": {
      "text/plain": [
       "{'Comedy',\n",
       " 'Documentary',\n",
       " 'Drama',\n",
       " 'Film-Noir',\n",
       " 'Horror',\n",
       " 'Musical',\n",
       " 'Thriller',\n",
       " 'Western'}"
      ]
     },
     "execution_count": 8,
     "metadata": {},
     "output_type": "execute_result"
    }
   ],
   "source": [
    "group = data.iloc[:, 8]\n",
    "set(group)"
   ]
  },
  {
   "cell_type": "code",
   "execution_count": 9,
   "metadata": {},
   "outputs": [],
   "source": [
    "G1 = []\n",
    "G2 = []\n",
    "G3 = []\n",
    "G4 = []\n",
    "G5 = []\n",
    "G6 = []\n",
    "G7= []\n",
    "G8 = []\n",
    "for i in range(0,len(movies)):\n",
    "    if(group[i] == \"Comedy\"):\n",
    "        G1.append(group[i])\n",
    "    elif(group[i] == \"Documentary\"):\n",
    "        G2.append(group[i])\n",
    "    elif(group[i] == \"Drama\"):\n",
    "        G3.append(group[i])\n",
    "    elif(group[i] == \"Film-Noir\"):\n",
    "        G4.append(group[i])\n",
    "    elif(group[i] == \"Horror\"):\n",
    "        G5.append(group[i])\n",
    "    elif(group[i] == \"Musical\"):\n",
    "        G6.append(group[i])\n",
    "    elif(group[i] == \"Thriller\"):\n",
    "        G7.append(group[i])\n",
    "    else:\n",
    "        G8.append(group[i])"
   ]
  },
  {
   "cell_type": "code",
   "execution_count": null,
   "metadata": {},
   "outputs": [],
   "source": []
  },
  {
   "cell_type": "code",
   "execution_count": 10,
   "metadata": {},
   "outputs": [],
   "source": [
    "p1 = len(G1)/len(itemList)\n",
    "p2 = len(G2)/len(itemList)\n",
    "p3 = len(G3)/len(itemList)\n",
    "p4 = len(G4)/len(itemList)\n",
    "p5 = len(G5)/len(itemList)\n",
    "p6 = len(G6)/len(itemList)\n",
    "p7 = len(G7)/len(itemList)\n",
    "p8 = len(G8)/len(itemList)"
   ]
  },
  {
   "cell_type": "code",
   "execution_count": null,
   "metadata": {},
   "outputs": [],
   "source": []
  },
  {
   "cell_type": "code",
   "execution_count": null,
   "metadata": {},
   "outputs": [],
   "source": []
  },
  {
   "cell_type": "code",
   "execution_count": null,
   "metadata": {},
   "outputs": [],
   "source": []
  },
  {
   "cell_type": "code",
   "execution_count": null,
   "metadata": {},
   "outputs": [],
   "source": []
  },
  {
   "cell_type": "code",
   "execution_count": null,
   "metadata": {},
   "outputs": [],
   "source": []
  },
  {
   "cell_type": "code",
   "execution_count": 11,
   "metadata": {},
   "outputs": [],
   "source": [
    "P = {'Comedy':p1,'Documentary':p2,'Drama':p3,'Film-Noir':p4,\n",
    "     'Horror':p5,'Musical':p6,'Thriller':p7,'Western':p8}"
   ]
  },
  {
   "cell_type": "code",
   "execution_count": 12,
   "metadata": {},
   "outputs": [
    {
     "data": {
      "text/plain": [
       "1.0"
      ]
     },
     "execution_count": 12,
     "metadata": {},
     "output_type": "execute_result"
    }
   ],
   "source": [
    "sum(P.values())"
   ]
  },
  {
   "cell_type": "code",
   "execution_count": 13,
   "metadata": {},
   "outputs": [
    {
     "data": {
      "text/plain": [
       "['Comedy',\n",
       " 'Documentary',\n",
       " 'Drama',\n",
       " 'Film-Noir',\n",
       " 'Horror',\n",
       " 'Musical',\n",
       " 'Thriller',\n",
       " 'Western']"
      ]
     },
     "execution_count": 13,
     "metadata": {},
     "output_type": "execute_result"
    }
   ],
   "source": [
    "A = list(P.keys())\n",
    "A"
   ]
  },
  {
   "cell_type": "code",
   "execution_count": 14,
   "metadata": {},
   "outputs": [],
   "source": [
    "S={}\n",
    "for a in A:\n",
    "   \n",
    "    scoreList = []\n",
    "    \n",
    "    S[a] = scoreList"
   ]
  },
  {
   "cell_type": "code",
   "execution_count": 15,
   "metadata": {},
   "outputs": [
    {
     "data": {
      "text/plain": [
       "'Drama'"
      ]
     },
     "execution_count": 15,
     "metadata": {},
     "output_type": "execute_result"
    }
   ],
   "source": [
    "A[2]"
   ]
  },
  {
   "cell_type": "code",
   "execution_count": 16,
   "metadata": {},
   "outputs": [],
   "source": [
    "score = len(rank)\n",
    "for i in rank:\n",
    "    if group[i-1] == 'Comedy':\n",
    "        S[A[0]].append((score,i))\n",
    "    if group[i-1] == 'Documentary':\n",
    "        S[A[1]].append((score,i))\n",
    "    if group[i-1] == 'Drama':\n",
    "        S[A[2]].append((score,i))\n",
    "    if group[i-1] == 'Film-Noir':\n",
    "        S[A[3]].append((score,i))\n",
    "    if group[i-1] == 'Horror':\n",
    "        S[A[4]].append((score,i))\n",
    "    if group[i-1] == 'Musical':\n",
    "        S[A[5]].append((score,i))\n",
    "    if group[i-1] == 'Thriller':\n",
    "        S[A[6]].append((score,i))\n",
    "    if group[i-1] == 'Western':\n",
    "        S[A[7]].append((score,i))\n",
    "    \n",
    "    score = score - 1"
   ]
  },
  {
   "cell_type": "code",
   "execution_count": null,
   "metadata": {},
   "outputs": [],
   "source": []
  },
  {
   "cell_type": "code",
   "execution_count": null,
   "metadata": {},
   "outputs": [],
   "source": []
  },
  {
   "cell_type": "code",
   "execution_count": 17,
   "metadata": {},
   "outputs": [],
   "source": [
    "def swap(dict,i,j):\n",
    "    item = dict[i]\n",
    "    dict[i] = dict[j]\n",
    "    dict[j] = item "
   ]
  },
  {
   "cell_type": "code",
   "execution_count": 18,
   "metadata": {},
   "outputs": [
    {
     "data": {
      "text/plain": [
       "58"
      ]
     },
     "execution_count": 18,
     "metadata": {},
     "output_type": "execute_result"
    }
   ],
   "source": [
    "len(S['Comedy'])"
   ]
  },
  {
   "cell_type": "code",
   "execution_count": 19,
   "metadata": {},
   "outputs": [
    {
     "data": {
      "text/plain": [
       "268"
      ]
     },
     "execution_count": 19,
     "metadata": {},
     "output_type": "execute_result"
    }
   ],
   "source": [
    "len(rank)"
   ]
  },
  {
   "cell_type": "code",
   "execution_count": 20,
   "metadata": {},
   "outputs": [
    {
     "data": {
      "text/plain": [
       "0.5871212121212122"
      ]
     },
     "execution_count": 20,
     "metadata": {},
     "output_type": "execute_result"
    }
   ],
   "source": [
    "P['Drama']"
   ]
  },
  {
   "cell_type": "code",
   "execution_count": 21,
   "metadata": {},
   "outputs": [],
   "source": [
    "def DetConstSort(S,A,P,kmax):\n",
    "    counts = {}\n",
    "    minCounts = {}\n",
    "    for ai in A:\n",
    "        counts[ai] = 0\n",
    "        minCounts[ai] = 0\n",
    "    \n",
    "    rankedAttList = {}\n",
    "    rankedScoreList = {}\n",
    "    maxIndices = {}\n",
    "    lastEmpty = 0\n",
    "    k = 0\n",
    "    \n",
    "    while lastEmpty <= kmax:\n",
    "        k = k + 1\n",
    "        tempMinCounts = {}\n",
    "        for ai in A:\n",
    "            tempMinCounts[ai] = math.floor(k * P[ai])\n",
    "        changedMins = []\n",
    "        for ai in A:\n",
    "            if minCounts[ai ] < tempMinCounts[ai]:\n",
    "                #print(ai,counts[ai])\n",
    "                changedMins.append((S[ai][counts[ai]],ai))\n",
    "        if len(changedMins) != 0 :\n",
    "            changedMins.sort(reverse=True)\n",
    "            #ordChangedMins = changedMins\n",
    "        for sai,ai in  changedMins:\n",
    "            rankedAttList[lastEmpty] = ai\n",
    "            #print(ai)\n",
    "            rankedScoreList[lastEmpty] = S[ai][counts[ai]]\n",
    "            maxIndices[lastEmpty] = k\n",
    "            start = lastEmpty\n",
    "            while start > 0 and maxIndices[start - 1] >= start and rankedScoreList[start-1][0] < rankedScoreList[start][0]:\n",
    "                swap(maxIndices,start - 1,start)\n",
    "                swap(rankedAttList,start - 1, start)\n",
    "                swap(rankedScoreList,start - 1, start)\n",
    "                start = start - 1\n",
    "            counts[ai] = counts[ai] + 1 \n",
    "            lastEmpty = lastEmpty + 1\n",
    "        minCounts = tempMinCounts\n",
    "    return (rankedAttList, rankedScoreList)"
   ]
  },
  {
   "cell_type": "code",
   "execution_count": null,
   "metadata": {},
   "outputs": [],
   "source": []
  },
  {
   "cell_type": "code",
   "execution_count": 22,
   "metadata": {},
   "outputs": [],
   "source": [
    "kmax = 200 #len(rank) - 1\n",
    "rankedAttList,rankedScoreList = DetConstSort(S,A,P,kmax)"
   ]
  },
  {
   "cell_type": "code",
   "execution_count": null,
   "metadata": {},
   "outputs": [],
   "source": []
  },
  {
   "cell_type": "code",
   "execution_count": null,
   "metadata": {},
   "outputs": [],
   "source": []
  },
  {
   "cell_type": "code",
   "execution_count": 23,
   "metadata": {},
   "outputs": [],
   "source": [
    "detOut = []\n",
    "for key in rankedScoreList.keys():\n",
    "    detOut.append(rankedScoreList[key][1])"
   ]
  },
  {
   "cell_type": "code",
   "execution_count": null,
   "metadata": {},
   "outputs": [],
   "source": []
  },
  {
   "cell_type": "code",
   "execution_count": 24,
   "metadata": {},
   "outputs": [],
   "source": [
    "newOut = []"
   ]
  },
  {
   "cell_type": "code",
   "execution_count": null,
   "metadata": {},
   "outputs": [],
   "source": []
  },
  {
   "cell_type": "code",
   "execution_count": null,
   "metadata": {},
   "outputs": [],
   "source": []
  },
  {
   "cell_type": "code",
   "execution_count": 25,
   "metadata": {},
   "outputs": [
    {
     "name": "stdout",
     "output_type": "stream",
     "text": [
      "5\n",
      "pfairness satisfied by DetConstSort =  5 80.0\n",
      "20\n",
      "pfairness satisfied by DetConstSort =  20 30.0\n",
      "30\n",
      "pfairness satisfied by DetConstSort =  30 33.33333333333333\n",
      "50\n",
      "pfairness satisfied by DetConstSort =  50 22.0\n",
      "100\n",
      "pfairness satisfied by DetConstSort =  100 11.0\n",
      "200\n",
      "pfairness satisfied by DetConstSort =  200 5.5\n"
     ]
    }
   ],
   "source": [
    "posCheck = [5,20,30,50,100,200]\n",
    "y_out = [100 for i in range(len(posCheck))]\n",
    "sumFail = 0\n",
    "count = {'Comedy':0,'Documentary':0,'Drama':0,'Film-Noir':0,\n",
    "        'Horror':0,'Musical':0,'Thriller':0,'Western':0}\n",
    "x_detConst = []\n",
    "y = []\n",
    "totalViolates = 0\n",
    "itrCount = 0\n",
    "for i in detOut:\n",
    "    itemGrp = group[i-1]\n",
    "    count[str(itemGrp)] = count[str(itemGrp)] + 1\n",
    "    \n",
    "    violates = False\n",
    "    for j in A:\n",
    "        bot = math.floor(itrCount*P[j])\n",
    "        top = math.ceil(itrCount*P[j])\n",
    "        #print(j,bot,top)\n",
    "        if (count[j] > top):\n",
    "            violates = True\n",
    "    if violates == True:\n",
    "        totalViolates = totalViolates + 1\n",
    "    #print(n,totalViolates)\n",
    "    itrCount = itrCount + 1\n",
    "    if itrCount in posCheck:\n",
    "        print(itrCount)\n",
    "        x_detConst.append((itrCount-totalViolates)/itrCount*100)\n",
    "        print('pfairness satisfied by DetConstSort = ',itrCount,(itrCount-totalViolates)/itrCount*100)"
   ]
  },
  {
   "cell_type": "code",
   "execution_count": 26,
   "metadata": {},
   "outputs": [],
   "source": [
    "\n",
    "import pandas as pd\n",
    "import random\n",
    "import math\n",
    "\n",
    "import networkx as nx\n",
    "import networkx as nx\n",
    "from networkx.algorithms import bipartite\n",
    "import random\n",
    "import math\n",
    "\n",
    "\n",
    "df = pd.read_csv('data/unique_200.csv')\n",
    "\n",
    "allGenre = []\n",
    "groups = []\n",
    "genre = df['genre']\n",
    "result = []\n",
    "numberOfItem = 200#len(df.iloc[:, 1])\n",
    "delta = 0\n",
    "\n",
    "allGenre = []\n",
    "allgroup = []\n",
    "for g in genre:\n",
    "    if g not in allGenre:\n",
    "        allGenre.append(g)\n",
    "    allgroup.append(allGenre.index(g))\n",
    "\n",
    "for colnum in range(1,2):\n",
    "\n",
    "\n",
    "    movieIds = df.iloc[:, colnum]\n",
    "    movieDic = {}\n",
    "    rank = []\n",
    "\n",
    "    movieIdarray = []\n",
    "    for i in movieIds:\n",
    "        if i <= numberOfItem:\n",
    "            movieIdarray.append(i)\n",
    "\n",
    "    for i in range(1,len(movieIdarray)+1):\n",
    "        movieId = movieIdarray[i-1]\n",
    "        groupId = allgroup[movieId-1]\n",
    "        movieDic[i] = movieId\n",
    "        rank.append(i)\n",
    "        groups.append(groupId)\n",
    "\n",
    "\n",
    "\n",
    "    rank = rank[0:numberOfItem]\n",
    "    groups = groups[0:numberOfItem]\n",
    "\n",
    "\n",
    "\n",
    "\n",
    "    rankGrp = {}\n",
    "    for i in range(0, len(rank)):\n",
    "        rankGrp[rank[i]] = groups[i]\n",
    "\n",
    "    grpCount = {}\n",
    "    for i in groups:\n",
    "        grpCount[i] = 0\n",
    "\n",
    "    rankGrpPos = {}\n",
    "    for i in rank:\n",
    "        grpCount[rankGrp[i]] = grpCount[rankGrp[i]] + 1\n",
    "        rankGrpPos[i] = grpCount[rankGrp[i]]\n",
    "\n",
    "    rankRange = {}\n",
    "    for item in rank:\n",
    "        i = rankGrpPos[item]\n",
    "        n = numberOfItem\n",
    "        fp = grpCount[rankGrp[item]]\n",
    "        r1 = math.floor((i-1 - delta) * n / fp)+1\n",
    "        r2 = math.ceil((i + delta) * n / fp)\n",
    "        if r2 > numberOfItem:\n",
    "            r2 = numberOfItem\n",
    "        rankRange[item] = (r1, r2)\n",
    "\n",
    "    B = nx.Graph()\n",
    "    top_nodes = []\n",
    "    bottom_nodes = []\n",
    "\n",
    "    for i in rank:\n",
    "        top_nodes.append(i)\n",
    "        bottom_nodes.append(str(i))\n",
    "    B.add_nodes_from(top_nodes, bipartite=0)\n",
    "    B.add_nodes_from(bottom_nodes, bipartite=1)\n",
    "\n",
    "    for i in rank:\n",
    "        r1, r2 = rankRange[i]\n",
    "        # print(r1,r2)\n",
    "        for j in range(1, numberOfItem+1):\n",
    "            if j >= r1 and j <= r2:\n",
    "                #print(i,j)\n",
    "                B.add_edge(i, str(j), weight=abs(i - j))\n",
    "            # else:\n",
    "            #     B.add_edge(i, str(j), weight=100000000000)\n",
    "            #     # print(i,j)\n",
    "\n",
    "    my_matching = nx.algorithms.bipartite.minimum_weight_full_matching(B, top_nodes, \"weight\")\n",
    "\n",
    "    #print(my_matching)\n",
    "\n",
    "    rank1 = []\n",
    "    rank2 = []\n",
    "    for i in range(0,numberOfItem):\n",
    "        rank2.append(0)\n",
    "\n",
    "    for i in range(1,numberOfItem+1):\n",
    "        #print(my_matching[i])\n",
    "        rank1.append(i)\n",
    "        rank2[int(my_matching[i]) -1 ] = i\n",
    "\n",
    "\n",
    "    inputRank = []\n",
    "    fairRank = []\n",
    "\n",
    "    for i in range(0,numberOfItem):\n",
    "        rn1 = rank1[i]\n",
    "        rn2 = rank2[i]\n",
    "        inputRank.append(movieDic[rn1])\n",
    "        fairRank.append(movieDic[rn2])\n",
    "\n",
    "\n",
    "\n",
    "    result.append((inputRank,fairRank))\n",
    "\n",
    "#print(result)\n",
    "\n",
    "\n",
    "\n",
    "\n",
    "\n",
    "\n"
   ]
  },
  {
   "cell_type": "code",
   "execution_count": null,
   "metadata": {},
   "outputs": [],
   "source": []
  },
  {
   "cell_type": "code",
   "execution_count": null,
   "metadata": {},
   "outputs": [],
   "source": []
  },
  {
   "cell_type": "code",
   "execution_count": 27,
   "metadata": {},
   "outputs": [
    {
     "name": "stdout",
     "output_type": "stream",
     "text": [
      "5\n",
      "pfairness satisfied by DetConstSort =  5 100.0\n",
      "20\n",
      "pfairness satisfied by DetConstSort =  20 100.0\n",
      "30\n",
      "pfairness satisfied by DetConstSort =  30 100.0\n",
      "50\n",
      "pfairness satisfied by DetConstSort =  50 100.0\n",
      "100\n",
      "pfairness satisfied by DetConstSort =  100 100.0\n",
      "200\n",
      "pfairness satisfied by DetConstSort =  200 100.0\n"
     ]
    }
   ],
   "source": [
    "posCheck = [5,20,30,50,100,200]\n",
    "\n",
    "sumFail = 0\n",
    "count = {'Comedy':0,'Documentary':0,'Drama':0,'Film-Noir':0,\n",
    "        'Horror':0,'Musical':0,'Thriller':0,'Western':0}\n",
    "y_out = []\n",
    "y = []\n",
    "totalViolates = 0\n",
    "itrCount = 0\n",
    "for i in fairRank:\n",
    "    itemGrp = group[i-1]\n",
    "    count[str(itemGrp)] = count[str(itemGrp)] + 1\n",
    "    \n",
    "    violates = False\n",
    "    tviolates = 0\n",
    "    for j in A:\n",
    "        bot = math.floor(itrCount*P[j])\n",
    "        top = math.ceil(itrCount*P[j])\n",
    "        #print(j,bot,top)\n",
    "        if (count[j] > top):\n",
    "            violates = True\n",
    "    if violates == True:\n",
    "        totalViolates = totalViolates + 1\n",
    "    #print(n,totalViolates)\n",
    "    itrCount = itrCount + 1\n",
    "    if itrCount in posCheck:\n",
    "        print(itrCount)\n",
    "        y_out.append((itrCount-tviolates)/itrCount*100)\n",
    "        print('pfairness satisfied by DetConstSort = ',itrCount,(itrCount-tviolates)/itrCount*100)"
   ]
  },
  {
   "cell_type": "code",
   "execution_count": null,
   "metadata": {},
   "outputs": [],
   "source": []
  },
  {
   "cell_type": "code",
   "execution_count": 28,
   "metadata": {},
   "outputs": [
    {
     "data": {
      "image/png": "[encoded data removed]",
      "text/plain": [
       "<Figure size 720x360 with 1 Axes>"
      ]
     },
     "metadata": {
      "needs_background": "light"
     },
     "output_type": "display_data"
    }
   ],
   "source": [
    "import numpy as np\n",
    "# Numbers of pairs of bars you want\n",
    "N = 6\n",
    "\n",
    "# Data on X-axis\n",
    "position = [0,1,2,3,4,5]\n",
    "# Specify the values of blue bars (height)\n",
    "blue_bar = []\n",
    "orange_bar = []\n",
    "for i in position:\n",
    "    blue_bar.append(x_detConst[i]) \n",
    "    orange_bar.append(y_out[i]) \n",
    "\n",
    "# Position of bars on x-axis\n",
    "ind = np.arange(N)\n",
    "\n",
    "# Figure size\n",
    "plt.figure(figsize=(10,5))\n",
    "\n",
    "# Width of a bar \n",
    "width = 0.3       \n",
    "\n",
    "# Plotting\n",
    "plt.bar(ind, blue_bar , width, label='DetConstSort',color = 'red')\n",
    "plt.bar(ind + width, orange_bar, width, label='ApproxMultiValuedIPF',color = 'blue')\n",
    "\n",
    "plt.xlabel('Number of items')\n",
    "plt.ylabel('Percent of  p-fairness being satisfied')\n",
    "#plt.title('DetConstSort vs GrBinaryIPF ')\n",
    "\n",
    "# xticks()\n",
    "# First argument - A list of positions at which ticks should be placed\n",
    "# Second argument -  A list of labels to place at the given locations\n",
    "plt.xticks(ind + width / 2, ('n = 5','n = 10','n = 15','n = 20','n = 25','n = 30' ))\n",
    "#plt.yticks([0.20,0.40,0.60,0.80,1.00,1.2],['20','40','60','80','100',''])\n",
    "# Finding the best position for legends and putting it\n",
    "plt.legend(loc='best')\n",
    "plt.show()"
   ]
  },
  {
   "cell_type": "code",
   "execution_count": null,
   "metadata": {},
   "outputs": [],
   "source": []
  },
  {
   "cell_type": "code",
   "execution_count": null,
   "metadata": {},
   "outputs": [],
   "source": []
  },
  {
   "cell_type": "code",
   "execution_count": null,
   "metadata": {},
   "outputs": [],
   "source": []
  },
  {
   "cell_type": "code",
   "execution_count": null,
   "metadata": {},
   "outputs": [],
   "source": []
  },
  {
   "cell_type": "code",
   "execution_count": null,
   "metadata": {},
   "outputs": [],
   "source": []
  },
  {
   "cell_type": "code",
   "execution_count": null,
   "metadata": {},
   "outputs": [],
   "source": []
  }
 ],
 "metadata": {
  "kernelspec": {
   "display_name": "Python 3",
   "language": "python",
   "name": "python3"
  },
  "language_info": {
   "codemirror_mode": {
    "name": "ipython",
    "version": 3
   },
   "file_extension": ".py",
   "mimetype": "text/x-python",
   "name": "python",
   "nbconvert_exporter": "python",
   "pygments_lexer": "ipython3",
   "version": "3.7.4"
  }
 },
 "nbformat": 4,
 "nbformat_minor": 2
}
